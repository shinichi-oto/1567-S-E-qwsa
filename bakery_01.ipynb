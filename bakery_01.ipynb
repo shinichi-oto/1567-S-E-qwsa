{
 "cells": [
  {
   "cell_type": "code",
   "execution_count": 1,
   "id": "e8fc3cd4",
   "metadata": {},
   "outputs": [],
   "source": [
    "import pandas as pd\n",
    "import numpy as np\n",
    "import matplotlib.pyplot as plt\n",
    "import seaborn as sns\n",
    "import xgboost as xgb\n",
    "\n",
    "import dask.dataframe as ddf\n",
    "import dask.multiprocessing\n",
    "\n",
    "from pandas.core.dtypes.dtypes import CategoricalDtype # <-\n",
    "from scipy.stats import norm, skew\n",
    "from scipy.special import boxcox1p\n",
    "\n",
    "from scipy import stats\n",
    "from scipy.stats import expon, reciprocal\n",
    "from scipy.stats import randint\n",
    "\n",
    "from collections import Counter\n",
    "from pandas.plotting import scatter_matrix\n",
    "\n",
    "from sklearn.linear_model import LinearRegression\n",
    "\n",
    "\n",
    "%matplotlib inline\n",
    "\n",
    "def nl():\n",
    "    print('\\n')"
   ]
  },
  {
   "cell_type": "markdown",
   "id": "f51d4224",
   "metadata": {},
   "source": [
    "# Introduction\n",
    "- 以下はある企業のオープンデータセットになっており、このNotebookでおこなっている事はある程度の規模のデータセットのデータクリーニングをどのように行えばよいか、という問題を主題としています。\n",
    "- まずデータセットはindex:40,000,000, 2.3G である為に、メモリ増設を行っていないorデフォルトでメモリが少ないPCでは処理後のデータ全体や処理中のデータがメモリ領域に乗りきらないという問題が存在し、Error32等が発生する可能性があります。これらを解決する為の方法として、データを少しづつ読み不要になった変数を削除するか等の方法が存在します。\n",
    "- このNotebookではDASKライブラリのDataFrameを使用してデータの読み込みとデータ処理を行うという方法で上記の問題を解決しながら、その処理速度を上げるという事を行っています。\n",
    "- このNotebookではデータ処理に焦点を当てているので予測モデルの作成は行っていません。EDAも行っていません。"
   ]
  },
  {
   "cell_type": "markdown",
   "id": "0643d7c7",
   "metadata": {},
   "source": [
    "# DataSetについて\n",
    "- このコンペティションでは、ある商品の、ある店舗での、ある週の需要を予測することになります。あなたに与えられたデータセットは、メキシコでの9週間の販売取引から構成されています。毎週、商品をベンダーに届ける配送トラックがあります。各取引は、売上と返品から構成される。返品は売れ残りや賞味期限切れの商品である。ある週の商品の需要は、今週の売上から来週の返品を差し引いたものと定義される。\n",
    "\n",
    "- 訓練データセットとテストデータセットは時間に基づいて分割されている。\n",
    "\n",
    "# 注意すべきこと\n",
    "\n",
    "- テストセットには、訓練セットに存在しない商品がある。これはインベントリデータで予想される動作で、常に新しい製品が販売されているからです。モデルを作成する場合にはこれに対応できるようにする必要があります。\n",
    "- cliente_tablaに重複したCliente_IDがあります。つまり、1つのCliente_IDが非常に類似した複数のNombreClienteを持つ可能性があります。これは、NombreCliente が生データではノイズが多く、標準化されていないためで、この情報をどのようにクリーンアップして使用するかはデータサイエンティスト次第。\n",
    "- 需要は0か正の値であるべきなので、調整後の需要（Demanda_uni_equil）は常に≧0となります。Venta_uni_hoy - Dev_uni_proxima が時々マイナスの値になるのは、リターンの記録が時々数週間繰り越されるからである。"
   ]
  },
  {
   "cell_type": "markdown",
   "id": "4101ba30",
   "metadata": {},
   "source": [
    "# ファイルの説明\n",
    "- train.csv - 訓練セット\n",
    "- test.csv - テストセット\n",
    "- sample_submission.csv - 正しいフォーマットのサンプル投稿ファイルです。\n",
    "- cliente_tabla.csv - 顧客名 (Cliente_ID で train/test と結合可能)\n",
    "- producto_tabla.csv - 製品名 (Producto_IDでtrain/testと結合可能)\n",
    "- town_state.csv - 町および州 (Agencia_ID の train/test で結合可能)\n",
    "\n",
    "# データフィールド\n",
    "- Semana - 週番号 (木曜日から水曜日まで)\n",
    "- Agencia_ID-販売代理店ID\n",
    "- Canal_ID-販売チャンネルID\n",
    "- Ruta_SAK-ルートID（複数のルート＝販売拠点）。\n",
    "- Cliente_ID-クライアントID\n",
    "- NombreCliente - クライアント名\n",
    "- Producto_ID - 製品ID\n",
    "- NombreProducto - 製品名\n",
    "- Venta_uni_hoy - 今週の販売台数 (整数)\n",
    "- Venta_hoy - 今週の売上(単位：ペソ)\n",
    "- Dev_uni_proxima - 来週の返品単位 (整数)\n",
    "- Dev_proxima - 来週の売上高（単位：ペソ）\n",
    "- Demanda_uni_equil - 調整済み需要（整数）（これは予測する目標です。）"
   ]
  },
  {
   "cell_type": "markdown",
   "id": "e6177e4d",
   "metadata": {},
   "source": [
    "## Client_table : 顧客名 (Cliente_ID で train/test と結合可能)\n",
    "- Cliente_ID-クライアントID\n",
    "- NombreCliente - クライアント名"
   ]
  },
  {
   "cell_type": "code",
   "execution_count": 2,
   "id": "7685739f",
   "metadata": {},
   "outputs": [],
   "source": [
    "dtype = {'Cliente_ID': 'int32'}\n",
    "client_df = pd.read_csv('D:/JupyterNotebook/BakeryDataset/cliente_tabla.csv', dtype=dtype)"
   ]
  },
  {
   "cell_type": "code",
   "execution_count": 3,
   "id": "22fc8634",
   "metadata": {},
   "outputs": [
    {
     "name": "stdout",
     "output_type": "stream",
     "text": [
      "<class 'pandas.core.frame.DataFrame'>\n",
      "RangeIndex: 935362 entries, 0 to 935361\n",
      "Data columns (total 2 columns):\n",
      " #   Column         Non-Null Count   Dtype \n",
      "---  ------         --------------   ----- \n",
      " 0   Cliente_ID     935362 non-null  int32 \n",
      " 1   NombreCliente  935362 non-null  object\n",
      "dtypes: int32(1), object(1)\n",
      "memory usage: 10.7+ MB\n"
     ]
    }
   ],
   "source": [
    "client_df.info()"
   ]
  },
  {
   "cell_type": "code",
   "execution_count": 4,
   "id": "d6885663",
   "metadata": {},
   "outputs": [
    {
     "data": {
      "text/html": [
       "<div>\n",
       "<style scoped>\n",
       "    .dataframe tbody tr th:only-of-type {\n",
       "        vertical-align: middle;\n",
       "    }\n",
       "\n",
       "    .dataframe tbody tr th {\n",
       "        vertical-align: top;\n",
       "    }\n",
       "\n",
       "    .dataframe thead th {\n",
       "        text-align: right;\n",
       "    }\n",
       "</style>\n",
       "<table border=\"1\" class=\"dataframe\">\n",
       "  <thead>\n",
       "    <tr style=\"text-align: right;\">\n",
       "      <th></th>\n",
       "      <th>Cliente_ID</th>\n",
       "      <th>NombreCliente</th>\n",
       "    </tr>\n",
       "  </thead>\n",
       "  <tbody>\n",
       "    <tr>\n",
       "      <th>0</th>\n",
       "      <td>0</td>\n",
       "      <td>SIN NOMBRE</td>\n",
       "    </tr>\n",
       "    <tr>\n",
       "      <th>1</th>\n",
       "      <td>1</td>\n",
       "      <td>OXXO XINANTECATL</td>\n",
       "    </tr>\n",
       "  </tbody>\n",
       "</table>\n",
       "</div>"
      ],
      "text/plain": [
       "   Cliente_ID     NombreCliente\n",
       "0           0        SIN NOMBRE\n",
       "1           1  OXXO XINANTECATL"
      ]
     },
     "execution_count": 4,
     "metadata": {},
     "output_type": "execute_result"
    }
   ],
   "source": [
    "client_df.head(2)"
   ]
  },
  {
   "cell_type": "code",
   "execution_count": 5,
   "id": "5c25777a",
   "metadata": {},
   "outputs": [],
   "source": [
    "dup_sr = client_df.groupby('Cliente_ID')['Cliente_ID'].count().astype('int8')\n",
    "dup_sr.name = 'dup_num'\n",
    "client_df = pd.merge(client_df, pd.DataFrame(dup_sr).reset_index())"
   ]
  },
  {
   "cell_type": "code",
   "execution_count": 6,
   "id": "4c6d763c",
   "metadata": {},
   "outputs": [],
   "source": [
    "del dup_sr # 不要になった変数を開放する為に削除."
   ]
  },
  {
   "cell_type": "code",
   "execution_count": 7,
   "id": "53a76222",
   "metadata": {},
   "outputs": [
    {
     "name": "stdout",
     "output_type": "stream",
     "text": [
      "client's shape: (935362, 3)\n"
     ]
    },
    {
     "data": {
      "text/html": [
       "<div>\n",
       "<style scoped>\n",
       "    .dataframe tbody tr th:only-of-type {\n",
       "        vertical-align: middle;\n",
       "    }\n",
       "\n",
       "    .dataframe tbody tr th {\n",
       "        vertical-align: top;\n",
       "    }\n",
       "\n",
       "    .dataframe thead th {\n",
       "        text-align: right;\n",
       "    }\n",
       "</style>\n",
       "<table border=\"1\" class=\"dataframe\">\n",
       "  <thead>\n",
       "    <tr style=\"text-align: right;\">\n",
       "      <th></th>\n",
       "      <th>Cliente_ID</th>\n",
       "      <th>NombreCliente</th>\n",
       "      <th>dup_num</th>\n",
       "    </tr>\n",
       "  </thead>\n",
       "  <tbody>\n",
       "    <tr>\n",
       "      <th>0</th>\n",
       "      <td>0</td>\n",
       "      <td>SIN NOMBRE</td>\n",
       "      <td>1</td>\n",
       "    </tr>\n",
       "    <tr>\n",
       "      <th>1</th>\n",
       "      <td>1</td>\n",
       "      <td>OXXO XINANTECATL</td>\n",
       "      <td>1</td>\n",
       "    </tr>\n",
       "    <tr>\n",
       "      <th>2</th>\n",
       "      <td>2</td>\n",
       "      <td>SIN NOMBRE</td>\n",
       "      <td>1</td>\n",
       "    </tr>\n",
       "  </tbody>\n",
       "</table>\n",
       "</div>"
      ],
      "text/plain": [
       "   Cliente_ID     NombreCliente  dup_num\n",
       "0           0        SIN NOMBRE        1\n",
       "1           1  OXXO XINANTECATL        1\n",
       "2           2        SIN NOMBRE        1"
      ]
     },
     "execution_count": 7,
     "metadata": {},
     "output_type": "execute_result"
    }
   ],
   "source": [
    "print(f'client\\'s shape: {client_df.shape}')\n",
    "client_df.head(3)"
   ]
  },
  {
   "cell_type": "markdown",
   "id": "11d3224d",
   "metadata": {},
   "source": [
    "------\n",
    "## producto_tabla : 製品名 (Producto_IDでtrain/testと結合可能)\n",
    "- Producto_ID - 製品ID\n",
    "- NombreProducto - 製品名"
   ]
  },
  {
   "cell_type": "code",
   "execution_count": 8,
   "id": "33e954ef",
   "metadata": {},
   "outputs": [],
   "source": [
    "dtype = {'Producto_ID': 'int32'}\n",
    "product_df = pd.read_csv('D:/JupyterNotebook/BakeryDataset/producto_tabla.csv')"
   ]
  },
  {
   "cell_type": "code",
   "execution_count": 9,
   "id": "efd25288",
   "metadata": {},
   "outputs": [
    {
     "name": "stdout",
     "output_type": "stream",
     "text": [
      "<class 'pandas.core.frame.DataFrame'>\n",
      "RangeIndex: 2592 entries, 0 to 2591\n",
      "Data columns (total 2 columns):\n",
      " #   Column          Non-Null Count  Dtype \n",
      "---  ------          --------------  ----- \n",
      " 0   Producto_ID     2592 non-null   int64 \n",
      " 1   NombreProducto  2592 non-null   object\n",
      "dtypes: int64(1), object(1)\n",
      "memory usage: 40.6+ KB\n"
     ]
    }
   ],
   "source": [
    "product_df.info()"
   ]
  },
  {
   "cell_type": "code",
   "execution_count": 10,
   "id": "7bf39a51",
   "metadata": {},
   "outputs": [
    {
     "data": {
      "text/html": [
       "<div>\n",
       "<style scoped>\n",
       "    .dataframe tbody tr th:only-of-type {\n",
       "        vertical-align: middle;\n",
       "    }\n",
       "\n",
       "    .dataframe tbody tr th {\n",
       "        vertical-align: top;\n",
       "    }\n",
       "\n",
       "    .dataframe thead th {\n",
       "        text-align: right;\n",
       "    }\n",
       "</style>\n",
       "<table border=\"1\" class=\"dataframe\">\n",
       "  <thead>\n",
       "    <tr style=\"text-align: right;\">\n",
       "      <th></th>\n",
       "      <th>Producto_ID</th>\n",
       "      <th>NombreProducto</th>\n",
       "    </tr>\n",
       "  </thead>\n",
       "  <tbody>\n",
       "    <tr>\n",
       "      <th>0</th>\n",
       "      <td>0</td>\n",
       "      <td>NO IDENTIFICADO 0</td>\n",
       "    </tr>\n",
       "    <tr>\n",
       "      <th>1</th>\n",
       "      <td>9</td>\n",
       "      <td>Capuccino Moka 750g NES 9</td>\n",
       "    </tr>\n",
       "  </tbody>\n",
       "</table>\n",
       "</div>"
      ],
      "text/plain": [
       "   Producto_ID             NombreProducto\n",
       "0            0          NO IDENTIFICADO 0\n",
       "1            9  Capuccino Moka 750g NES 9"
      ]
     },
     "execution_count": 10,
     "metadata": {},
     "output_type": "execute_result"
    }
   ],
   "source": [
    "product_df.head(2)"
   ]
  },
  {
   "cell_type": "code",
   "execution_count": 11,
   "id": "c10c621b",
   "metadata": {},
   "outputs": [],
   "source": [
    "product_df['popular_name'] = product_df.NombreProducto.str.extract(r'^(.*?)(\\d*\\s\\d+(kg|Kg|g|G|ml| ml|p|Reb)\\s)', expand=False)[0]\n",
    "product_df['property'] = product_df.NombreProducto.str.extract(r'^.*\\d+(kg|Kg|g|G|ml| ml|p|Reb)\\s(.*?)\\s\\d+$', expand=False)[1]\n",
    "product_df['unit'] = product_df.NombreProducto.str.extract(r'(\\d*\\s\\d+(kg|Kg|g|G|ml| ml))', expand=False)[0]\n",
    "product_df['pieces'] =  product_df.NombreProducto.str.extract('(\\d+(p|Reb)) ', expand=False)[0]"
   ]
  },
  {
   "cell_type": "code",
   "execution_count": 12,
   "id": "beca8554",
   "metadata": {},
   "outputs": [
    {
     "name": "stdout",
     "output_type": "stream",
     "text": [
      "product's shape: (2592, 6)\n"
     ]
    },
    {
     "data": {
      "text/html": [
       "<div>\n",
       "<style scoped>\n",
       "    .dataframe tbody tr th:only-of-type {\n",
       "        vertical-align: middle;\n",
       "    }\n",
       "\n",
       "    .dataframe tbody tr th {\n",
       "        vertical-align: top;\n",
       "    }\n",
       "\n",
       "    .dataframe thead th {\n",
       "        text-align: right;\n",
       "    }\n",
       "</style>\n",
       "<table border=\"1\" class=\"dataframe\">\n",
       "  <thead>\n",
       "    <tr style=\"text-align: right;\">\n",
       "      <th></th>\n",
       "      <th>Producto_ID</th>\n",
       "      <th>NombreProducto</th>\n",
       "      <th>popular_name</th>\n",
       "      <th>property</th>\n",
       "      <th>unit</th>\n",
       "      <th>pieces</th>\n",
       "    </tr>\n",
       "  </thead>\n",
       "  <tbody>\n",
       "    <tr>\n",
       "      <th>0</th>\n",
       "      <td>0</td>\n",
       "      <td>NO IDENTIFICADO 0</td>\n",
       "      <td>NaN</td>\n",
       "      <td>NaN</td>\n",
       "      <td>NaN</td>\n",
       "      <td>NaN</td>\n",
       "    </tr>\n",
       "    <tr>\n",
       "      <th>1</th>\n",
       "      <td>9</td>\n",
       "      <td>Capuccino Moka 750g NES 9</td>\n",
       "      <td>Capuccino Moka</td>\n",
       "      <td>NES</td>\n",
       "      <td>750g</td>\n",
       "      <td>NaN</td>\n",
       "    </tr>\n",
       "    <tr>\n",
       "      <th>2</th>\n",
       "      <td>41</td>\n",
       "      <td>Bimbollos Ext sAjonjoli 6p 480g BIM 41</td>\n",
       "      <td>Bimbollos Ext sAjonjoli</td>\n",
       "      <td>BIM</td>\n",
       "      <td>480g</td>\n",
       "      <td>6p</td>\n",
       "    </tr>\n",
       "    <tr>\n",
       "      <th>3</th>\n",
       "      <td>53</td>\n",
       "      <td>Burritos Sincro 170g CU LON 53</td>\n",
       "      <td>Burritos Sincro</td>\n",
       "      <td>CU LON</td>\n",
       "      <td>170g</td>\n",
       "      <td>NaN</td>\n",
       "    </tr>\n",
       "    <tr>\n",
       "      <th>4</th>\n",
       "      <td>72</td>\n",
       "      <td>Div Tira Mini Doradita 4p 45g TR 72</td>\n",
       "      <td>Div Tira Mini Doradita</td>\n",
       "      <td>TR</td>\n",
       "      <td>45g</td>\n",
       "      <td>4p</td>\n",
       "    </tr>\n",
       "  </tbody>\n",
       "</table>\n",
       "</div>"
      ],
      "text/plain": [
       "   Producto_ID                          NombreProducto  \\\n",
       "0            0                       NO IDENTIFICADO 0   \n",
       "1            9               Capuccino Moka 750g NES 9   \n",
       "2           41  Bimbollos Ext sAjonjoli 6p 480g BIM 41   \n",
       "3           53          Burritos Sincro 170g CU LON 53   \n",
       "4           72     Div Tira Mini Doradita 4p 45g TR 72   \n",
       "\n",
       "              popular_name property   unit pieces  \n",
       "0                      NaN      NaN    NaN    NaN  \n",
       "1           Capuccino Moka      NES   750g    NaN  \n",
       "2  Bimbollos Ext sAjonjoli      BIM   480g     6p  \n",
       "3          Burritos Sincro   CU LON   170g    NaN  \n",
       "4   Div Tira Mini Doradita       TR    45g     4p  "
      ]
     },
     "execution_count": 12,
     "metadata": {},
     "output_type": "execute_result"
    }
   ],
   "source": [
    "print(f'product\\'s shape: {product_df.shape}')\n",
    "product_df.head(5)"
   ]
  },
  {
   "cell_type": "markdown",
   "id": "9dac4e5d",
   "metadata": {},
   "source": [
    "------\n",
    "## town_state.csv : 町および州 (Agencia_ID の train/test で結合可能)\n",
    "- Agencia_ID-販売代理店ID\n",
    "- Town - 町\n",
    "- State - 州"
   ]
  },
  {
   "cell_type": "code",
   "execution_count": 13,
   "id": "8ce87f28",
   "metadata": {},
   "outputs": [],
   "source": [
    "dtype = {'Agencia_ID': 'int16'}\n",
    "town_state_df = pd.read_csv('D:/JupyterNotebook/BakeryDataset/town_state.csv', dtype=dtype)"
   ]
  },
  {
   "cell_type": "code",
   "execution_count": 14,
   "id": "065145bb",
   "metadata": {},
   "outputs": [
    {
     "name": "stdout",
     "output_type": "stream",
     "text": [
      "<class 'pandas.core.frame.DataFrame'>\n",
      "RangeIndex: 790 entries, 0 to 789\n",
      "Data columns (total 3 columns):\n",
      " #   Column      Non-Null Count  Dtype \n",
      "---  ------      --------------  ----- \n",
      " 0   Agencia_ID  790 non-null    int16 \n",
      " 1   Town        790 non-null    object\n",
      " 2   State       790 non-null    object\n",
      "dtypes: int16(1), object(2)\n",
      "memory usage: 14.0+ KB\n"
     ]
    }
   ],
   "source": [
    "town_state_df.info()"
   ]
  },
  {
   "cell_type": "code",
   "execution_count": 15,
   "id": "49458eff",
   "metadata": {},
   "outputs": [
    {
     "data": {
      "text/html": [
       "<div>\n",
       "<style scoped>\n",
       "    .dataframe tbody tr th:only-of-type {\n",
       "        vertical-align: middle;\n",
       "    }\n",
       "\n",
       "    .dataframe tbody tr th {\n",
       "        vertical-align: top;\n",
       "    }\n",
       "\n",
       "    .dataframe thead th {\n",
       "        text-align: right;\n",
       "    }\n",
       "</style>\n",
       "<table border=\"1\" class=\"dataframe\">\n",
       "  <thead>\n",
       "    <tr style=\"text-align: right;\">\n",
       "      <th></th>\n",
       "      <th>Agencia_ID</th>\n",
       "      <th>Town</th>\n",
       "      <th>State</th>\n",
       "    </tr>\n",
       "  </thead>\n",
       "  <tbody>\n",
       "    <tr>\n",
       "      <th>0</th>\n",
       "      <td>1110</td>\n",
       "      <td>2008 AG. LAGO FILT</td>\n",
       "      <td>MÉXICO, D.F.</td>\n",
       "    </tr>\n",
       "    <tr>\n",
       "      <th>1</th>\n",
       "      <td>1111</td>\n",
       "      <td>2002 AG. AZCAPOTZALCO</td>\n",
       "      <td>MÉXICO, D.F.</td>\n",
       "    </tr>\n",
       "    <tr>\n",
       "      <th>2</th>\n",
       "      <td>1112</td>\n",
       "      <td>2004 AG. CUAUTITLAN</td>\n",
       "      <td>ESTADO DE MÉXICO</td>\n",
       "    </tr>\n",
       "  </tbody>\n",
       "</table>\n",
       "</div>"
      ],
      "text/plain": [
       "   Agencia_ID                   Town             State\n",
       "0        1110     2008 AG. LAGO FILT      MÉXICO, D.F.\n",
       "1        1111  2002 AG. AZCAPOTZALCO      MÉXICO, D.F.\n",
       "2        1112    2004 AG. CUAUTITLAN  ESTADO DE MÉXICO"
      ]
     },
     "execution_count": 15,
     "metadata": {},
     "output_type": "execute_result"
    }
   ],
   "source": [
    "town_state_df.head(3)"
   ]
  },
  {
   "cell_type": "code",
   "execution_count": 16,
   "id": "0e574c06",
   "metadata": {},
   "outputs": [],
   "source": [
    "town_state_df['Town_ID'] = town_state_df.Town.apply(lambda x: x.split(' ')[0]).astype('int16')\n",
    "town_state_df['Town_name'] = town_state_df.Town.apply(lambda x: ' '.join(x.split(' ')[1:]))"
   ]
  },
  {
   "cell_type": "code",
   "execution_count": 17,
   "id": "767e024e",
   "metadata": {},
   "outputs": [
    {
     "name": "stdout",
     "output_type": "stream",
     "text": [
      "town_state's shape: (790, 5)\n"
     ]
    },
    {
     "data": {
      "text/html": [
       "<div>\n",
       "<style scoped>\n",
       "    .dataframe tbody tr th:only-of-type {\n",
       "        vertical-align: middle;\n",
       "    }\n",
       "\n",
       "    .dataframe tbody tr th {\n",
       "        vertical-align: top;\n",
       "    }\n",
       "\n",
       "    .dataframe thead th {\n",
       "        text-align: right;\n",
       "    }\n",
       "</style>\n",
       "<table border=\"1\" class=\"dataframe\">\n",
       "  <thead>\n",
       "    <tr style=\"text-align: right;\">\n",
       "      <th></th>\n",
       "      <th>Agencia_ID</th>\n",
       "      <th>Town</th>\n",
       "      <th>State</th>\n",
       "      <th>Town_ID</th>\n",
       "      <th>Town_name</th>\n",
       "    </tr>\n",
       "  </thead>\n",
       "  <tbody>\n",
       "    <tr>\n",
       "      <th>0</th>\n",
       "      <td>1110</td>\n",
       "      <td>2008 AG. LAGO FILT</td>\n",
       "      <td>MÉXICO, D.F.</td>\n",
       "      <td>2008</td>\n",
       "      <td>AG. LAGO FILT</td>\n",
       "    </tr>\n",
       "    <tr>\n",
       "      <th>1</th>\n",
       "      <td>1111</td>\n",
       "      <td>2002 AG. AZCAPOTZALCO</td>\n",
       "      <td>MÉXICO, D.F.</td>\n",
       "      <td>2002</td>\n",
       "      <td>AG. AZCAPOTZALCO</td>\n",
       "    </tr>\n",
       "    <tr>\n",
       "      <th>2</th>\n",
       "      <td>1112</td>\n",
       "      <td>2004 AG. CUAUTITLAN</td>\n",
       "      <td>ESTADO DE MÉXICO</td>\n",
       "      <td>2004</td>\n",
       "      <td>AG. CUAUTITLAN</td>\n",
       "    </tr>\n",
       "  </tbody>\n",
       "</table>\n",
       "</div>"
      ],
      "text/plain": [
       "   Agencia_ID                   Town             State  Town_ID  \\\n",
       "0        1110     2008 AG. LAGO FILT      MÉXICO, D.F.     2008   \n",
       "1        1111  2002 AG. AZCAPOTZALCO      MÉXICO, D.F.     2002   \n",
       "2        1112    2004 AG. CUAUTITLAN  ESTADO DE MÉXICO     2004   \n",
       "\n",
       "          Town_name  \n",
       "0     AG. LAGO FILT  \n",
       "1  AG. AZCAPOTZALCO  \n",
       "2    AG. CUAUTITLAN  "
      ]
     },
     "execution_count": 17,
     "metadata": {},
     "output_type": "execute_result"
    }
   ],
   "source": [
    "print(f'town_state\\'s shape: {town_state_df.shape}')\n",
    "town_state_df.head(3)"
   ]
  },
  {
   "cell_type": "markdown",
   "id": "37912e93",
   "metadata": {},
   "source": [
    "-----\n",
    "## test.csv : テストセット\n",
    "- test_df : nrows(500000)\n",
    "- test_ddf : ALL DATA DASK"
   ]
  },
  {
   "cell_type": "code",
   "execution_count": 18,
   "id": "79edcdf8",
   "metadata": {},
   "outputs": [],
   "source": [
    "dtype = {\n",
    "    'id': 'int32',\n",
    "    'Semana': 'int8',\n",
    "    'Agencia_ID': 'int16',\n",
    "    'Canal_ID': 'int8',\n",
    "    'Ruta_SAK': 'int16',\n",
    "    'Cliente_ID': 'int32',\n",
    "    'Producto_ID': 'int32',\n",
    "}\n",
    "test_df = pd.read_csv('D:/JupyterNotebook/BakeryDataset/test.csv', dtype=dtype, nrows=20000000) # ALL DATA 40,000,000 chinksize="
   ]
  },
  {
   "cell_type": "code",
   "execution_count": 19,
   "id": "d809cb08",
   "metadata": {},
   "outputs": [
    {
     "name": "stdout",
     "output_type": "stream",
     "text": [
      "<class 'pandas.core.frame.DataFrame'>\n",
      "RangeIndex: 6999251 entries, 0 to 6999250\n",
      "Data columns (total 7 columns):\n",
      " #   Column       Dtype\n",
      "---  ------       -----\n",
      " 0   id           int32\n",
      " 1   Semana       int8 \n",
      " 2   Agencia_ID   int16\n",
      " 3   Canal_ID     int8 \n",
      " 4   Ruta_SAK     int16\n",
      " 5   Cliente_ID   int32\n",
      " 6   Producto_ID  int32\n",
      "dtypes: int16(2), int32(3), int8(2)\n",
      "memory usage: 120.2 MB\n"
     ]
    }
   ],
   "source": [
    "test_df.info()"
   ]
  },
  {
   "cell_type": "code",
   "execution_count": 20,
   "id": "10a0059f",
   "metadata": {},
   "outputs": [
    {
     "data": {
      "text/html": [
       "<div>\n",
       "<style scoped>\n",
       "    .dataframe tbody tr th:only-of-type {\n",
       "        vertical-align: middle;\n",
       "    }\n",
       "\n",
       "    .dataframe tbody tr th {\n",
       "        vertical-align: top;\n",
       "    }\n",
       "\n",
       "    .dataframe thead th {\n",
       "        text-align: right;\n",
       "    }\n",
       "</style>\n",
       "<table border=\"1\" class=\"dataframe\">\n",
       "  <thead>\n",
       "    <tr style=\"text-align: right;\">\n",
       "      <th></th>\n",
       "      <th>id</th>\n",
       "      <th>Semana</th>\n",
       "      <th>Agencia_ID</th>\n",
       "      <th>Canal_ID</th>\n",
       "      <th>Ruta_SAK</th>\n",
       "      <th>Cliente_ID</th>\n",
       "      <th>Producto_ID</th>\n",
       "    </tr>\n",
       "  </thead>\n",
       "  <tbody>\n",
       "    <tr>\n",
       "      <th>0</th>\n",
       "      <td>0</td>\n",
       "      <td>11</td>\n",
       "      <td>4037</td>\n",
       "      <td>1</td>\n",
       "      <td>2209</td>\n",
       "      <td>4639078</td>\n",
       "      <td>35305</td>\n",
       "    </tr>\n",
       "    <tr>\n",
       "      <th>1</th>\n",
       "      <td>1</td>\n",
       "      <td>11</td>\n",
       "      <td>2237</td>\n",
       "      <td>1</td>\n",
       "      <td>1226</td>\n",
       "      <td>4705135</td>\n",
       "      <td>1238</td>\n",
       "    </tr>\n",
       "  </tbody>\n",
       "</table>\n",
       "</div>"
      ],
      "text/plain": [
       "   id  Semana  Agencia_ID  Canal_ID  Ruta_SAK  Cliente_ID  Producto_ID\n",
       "0   0      11        4037         1      2209     4639078        35305\n",
       "1   1      11        2237         1      1226     4705135         1238"
      ]
     },
     "execution_count": 20,
     "metadata": {},
     "output_type": "execute_result"
    }
   ],
   "source": [
    "test_df.head(2)"
   ]
  },
  {
   "cell_type": "code",
   "execution_count": 21,
   "id": "92c91642",
   "metadata": {},
   "outputs": [
    {
     "name": "stdout",
     "output_type": "stream",
     "text": [
      "test's shape: (6999251, 7)\n"
     ]
    }
   ],
   "source": [
    "print(f'test\\'s shape: {test_df.shape}') # out-line"
   ]
  },
  {
   "cell_type": "code",
   "execution_count": 22,
   "id": "ac6ac1f6",
   "metadata": {},
   "outputs": [],
   "source": [
    "test_ddf = ddf.read_csv('D:/JupyterNotebook/BakeryDataset/test.csv', blocksize=25e6)"
   ]
  },
  {
   "cell_type": "code",
   "execution_count": 23,
   "id": "7751733e",
   "metadata": {},
   "outputs": [
    {
     "name": "stdout",
     "output_type": "stream",
     "text": [
      "<class 'dask.dataframe.core.DataFrame'>\n",
      "Columns: 7 entries, id to Producto_ID\n",
      "dtypes: int64(7)"
     ]
    }
   ],
   "source": [
    "test_ddf.info()"
   ]
  },
  {
   "cell_type": "code",
   "execution_count": 24,
   "id": "a32971b3",
   "metadata": {},
   "outputs": [
    {
     "data": {
      "text/html": [
       "<div>\n",
       "<style scoped>\n",
       "    .dataframe tbody tr th:only-of-type {\n",
       "        vertical-align: middle;\n",
       "    }\n",
       "\n",
       "    .dataframe tbody tr th {\n",
       "        vertical-align: top;\n",
       "    }\n",
       "\n",
       "    .dataframe thead th {\n",
       "        text-align: right;\n",
       "    }\n",
       "</style>\n",
       "<table border=\"1\" class=\"dataframe\">\n",
       "  <thead>\n",
       "    <tr style=\"text-align: right;\">\n",
       "      <th></th>\n",
       "      <th>id</th>\n",
       "      <th>Semana</th>\n",
       "      <th>Agencia_ID</th>\n",
       "      <th>Canal_ID</th>\n",
       "      <th>Ruta_SAK</th>\n",
       "      <th>Cliente_ID</th>\n",
       "      <th>Producto_ID</th>\n",
       "    </tr>\n",
       "  </thead>\n",
       "  <tbody>\n",
       "    <tr>\n",
       "      <th>0</th>\n",
       "      <td>0</td>\n",
       "      <td>11</td>\n",
       "      <td>4037</td>\n",
       "      <td>1</td>\n",
       "      <td>2209</td>\n",
       "      <td>4639078</td>\n",
       "      <td>35305</td>\n",
       "    </tr>\n",
       "  </tbody>\n",
       "</table>\n",
       "</div>"
      ],
      "text/plain": [
       "   id  Semana  Agencia_ID  Canal_ID  Ruta_SAK  Cliente_ID  Producto_ID\n",
       "0   0      11        4037         1      2209     4639078        35305"
      ]
     },
     "execution_count": 24,
     "metadata": {},
     "output_type": "execute_result"
    }
   ],
   "source": [
    "test_ddf.head(1)"
   ]
  },
  {
   "cell_type": "markdown",
   "id": "abbdba01",
   "metadata": {},
   "source": [
    "-------\n",
    "## train.csv : 訓練セット\n",
    "- Semana - 週番号 (木曜日から水曜日まで)\n",
    "- Agencia_ID-販売代理店ID\n",
    "- Canal_ID-販売チャンネルID\n",
    "- Ruta_SAK-ルートID（複数のルート＝販売拠点）。\n",
    "- Cliente_ID-クライアントID\n",
    "- NombreCliente - クライアント名\n",
    "- Producto_ID - 製品ID\n",
    "- NombreProducto - 製品名\n",
    "- Venta_uni_hoy - 今週の販売台数 (整数)\n",
    "- Venta_hoy - 今週の売上(単位：ペソ)\n",
    "- Dev_uni_proxima - 来週の返品単位 (整数)\n",
    "- Dev_proxima - 来週の売上高（単位：ペソ）\n",
    "- Demanda_uni_equil - 調整済み需要（整数）（これは予測する目標です。）"
   ]
  },
  {
   "cell_type": "markdown",
   "id": "5dc97bd8",
   "metadata": {},
   "source": [
    "- 各行が商品Product_IDの商品数によって各Client_IDが単一という形になっている。\n",
    "- Demande_uni_equilを予測する訳だが、Venta_uni_hoyという特徴量が今週の販売数であるので、これは正確に予測をする場合、時間周期性を考慮に入れる必要がある為、このデータ単体とその地域の時系列の人流を使用する必要があると考えられる。地域人流、年齢動態その他を考慮する事によってより正確な予測を行えると思われる。"
   ]
  },
  {
   "cell_type": "markdown",
   "id": "989e3f58",
   "metadata": {},
   "source": [
    "- 時系列として週が数値にカテゴライズされて存在するが、データセットを全て表示していない場合、データとして不十分な状態になる。"
   ]
  },
  {
   "cell_type": "markdown",
   "id": "0470b63f",
   "metadata": {},
   "source": [
    "- ルートが存在するので、グラフ理論を使用する事が可能であるとも考えられる。\n",
    "- Agencia_ID-販売代理店ID, Canal_ID-販売チャンネルIDの違いが何を示しているのか現状不明。"
   ]
  },
  {
   "cell_type": "code",
   "execution_count": 25,
   "id": "d0b83242",
   "metadata": {},
   "outputs": [],
   "source": [
    "dtype = {\n",
    "    'Semana': 'int8',\n",
    "    'Agencia_ID': 'int16',\n",
    "    'Canal_ID': 'int8',\n",
    "    'Ruta_SAK': 'int16',\n",
    "    'Cliente_ID': 'int32',\n",
    "    'Producto_ID': 'int32',\n",
    "    'Venta_uni_hoy': 'int16',\n",
    "    'Venta_hoy': 'float32',\n",
    "    'Dev_uni_proxima': 'int32',\n",
    "    'Dev_proxima': 'float32',\n",
    "    'Demanda_uni_equil': 'int16',\n",
    "}\n",
    "train_df = pd.read_csv('D:/JupyterNotebook/BakeryDataset/train.csv', dtype=dtype, nrows=20000000) # All is not read, nrows=500000, chunksize=100000"
   ]
  },
  {
   "cell_type": "code",
   "execution_count": 26,
   "id": "e0dee139",
   "metadata": {},
   "outputs": [],
   "source": [
    "#test_load_4_pd = pd.DataFrame([])\n",
    "#for chunk in test_load_4:\n",
    "#    test_load_4_pd = test_load_4_pd.add(chunk)"
   ]
  },
  {
   "cell_type": "code",
   "execution_count": 27,
   "id": "58a95ee9",
   "metadata": {},
   "outputs": [
    {
     "name": "stdout",
     "output_type": "stream",
     "text": [
      "train's shape: (20000000, 11)\n"
     ]
    },
    {
     "data": {
      "text/html": [
       "<div>\n",
       "<style scoped>\n",
       "    .dataframe tbody tr th:only-of-type {\n",
       "        vertical-align: middle;\n",
       "    }\n",
       "\n",
       "    .dataframe tbody tr th {\n",
       "        vertical-align: top;\n",
       "    }\n",
       "\n",
       "    .dataframe thead th {\n",
       "        text-align: right;\n",
       "    }\n",
       "</style>\n",
       "<table border=\"1\" class=\"dataframe\">\n",
       "  <thead>\n",
       "    <tr style=\"text-align: right;\">\n",
       "      <th></th>\n",
       "      <th>Semana</th>\n",
       "      <th>Agencia_ID</th>\n",
       "      <th>Canal_ID</th>\n",
       "      <th>Ruta_SAK</th>\n",
       "      <th>Cliente_ID</th>\n",
       "      <th>Producto_ID</th>\n",
       "      <th>Venta_uni_hoy</th>\n",
       "      <th>Venta_hoy</th>\n",
       "      <th>Dev_uni_proxima</th>\n",
       "      <th>Dev_proxima</th>\n",
       "      <th>Demanda_uni_equil</th>\n",
       "    </tr>\n",
       "  </thead>\n",
       "  <tbody>\n",
       "    <tr>\n",
       "      <th>0</th>\n",
       "      <td>3</td>\n",
       "      <td>1110</td>\n",
       "      <td>7</td>\n",
       "      <td>3301</td>\n",
       "      <td>15766</td>\n",
       "      <td>1212</td>\n",
       "      <td>3</td>\n",
       "      <td>25.139999</td>\n",
       "      <td>0</td>\n",
       "      <td>0.0</td>\n",
       "      <td>3</td>\n",
       "    </tr>\n",
       "    <tr>\n",
       "      <th>1</th>\n",
       "      <td>3</td>\n",
       "      <td>1110</td>\n",
       "      <td>7</td>\n",
       "      <td>3301</td>\n",
       "      <td>15766</td>\n",
       "      <td>1216</td>\n",
       "      <td>4</td>\n",
       "      <td>33.520000</td>\n",
       "      <td>0</td>\n",
       "      <td>0.0</td>\n",
       "      <td>4</td>\n",
       "    </tr>\n",
       "  </tbody>\n",
       "</table>\n",
       "</div>"
      ],
      "text/plain": [
       "   Semana  Agencia_ID  Canal_ID  Ruta_SAK  Cliente_ID  Producto_ID  \\\n",
       "0       3        1110         7      3301       15766         1212   \n",
       "1       3        1110         7      3301       15766         1216   \n",
       "\n",
       "   Venta_uni_hoy  Venta_hoy  Dev_uni_proxima  Dev_proxima  Demanda_uni_equil  \n",
       "0              3  25.139999                0          0.0                  3  \n",
       "1              4  33.520000                0          0.0                  4  "
      ]
     },
     "execution_count": 27,
     "metadata": {},
     "output_type": "execute_result"
    }
   ],
   "source": [
    "print(f'train\\'s shape: {train_df.shape}') # train_df\n",
    "train_df.head(2) # train_df"
   ]
  },
  {
   "cell_type": "code",
   "execution_count": 28,
   "id": "324508f9",
   "metadata": {},
   "outputs": [],
   "source": [
    "train_ddf = ddf.read_csv('D:/JupyterNotebook/BakeryDataset/train.csv', blocksize=25e6) # train_df or train_ddf"
   ]
  },
  {
   "cell_type": "code",
   "execution_count": 29,
   "id": "ba4a1540",
   "metadata": {},
   "outputs": [
    {
     "data": {
      "text/html": [
       "<div>\n",
       "<style scoped>\n",
       "    .dataframe tbody tr th:only-of-type {\n",
       "        vertical-align: middle;\n",
       "    }\n",
       "\n",
       "    .dataframe tbody tr th {\n",
       "        vertical-align: top;\n",
       "    }\n",
       "\n",
       "    .dataframe thead th {\n",
       "        text-align: right;\n",
       "    }\n",
       "</style>\n",
       "<table border=\"1\" class=\"dataframe\">\n",
       "  <thead>\n",
       "    <tr style=\"text-align: right;\">\n",
       "      <th></th>\n",
       "      <th>Semana</th>\n",
       "      <th>Agencia_ID</th>\n",
       "      <th>Canal_ID</th>\n",
       "      <th>Ruta_SAK</th>\n",
       "      <th>Cliente_ID</th>\n",
       "      <th>Producto_ID</th>\n",
       "      <th>Venta_uni_hoy</th>\n",
       "      <th>Venta_hoy</th>\n",
       "      <th>Dev_uni_proxima</th>\n",
       "      <th>Dev_proxima</th>\n",
       "      <th>Demanda_uni_equil</th>\n",
       "    </tr>\n",
       "  </thead>\n",
       "  <tbody>\n",
       "    <tr>\n",
       "      <th>0</th>\n",
       "      <td>3</td>\n",
       "      <td>1110</td>\n",
       "      <td>7</td>\n",
       "      <td>3301</td>\n",
       "      <td>15766</td>\n",
       "      <td>1212</td>\n",
       "      <td>3</td>\n",
       "      <td>25.14</td>\n",
       "      <td>0</td>\n",
       "      <td>0.0</td>\n",
       "      <td>3</td>\n",
       "    </tr>\n",
       "    <tr>\n",
       "      <th>1</th>\n",
       "      <td>3</td>\n",
       "      <td>1110</td>\n",
       "      <td>7</td>\n",
       "      <td>3301</td>\n",
       "      <td>15766</td>\n",
       "      <td>1216</td>\n",
       "      <td>4</td>\n",
       "      <td>33.52</td>\n",
       "      <td>0</td>\n",
       "      <td>0.0</td>\n",
       "      <td>4</td>\n",
       "    </tr>\n",
       "    <tr>\n",
       "      <th>2</th>\n",
       "      <td>3</td>\n",
       "      <td>1110</td>\n",
       "      <td>7</td>\n",
       "      <td>3301</td>\n",
       "      <td>15766</td>\n",
       "      <td>1238</td>\n",
       "      <td>4</td>\n",
       "      <td>39.32</td>\n",
       "      <td>0</td>\n",
       "      <td>0.0</td>\n",
       "      <td>4</td>\n",
       "    </tr>\n",
       "  </tbody>\n",
       "</table>\n",
       "</div>"
      ],
      "text/plain": [
       "   Semana  Agencia_ID  Canal_ID  Ruta_SAK  Cliente_ID  Producto_ID  \\\n",
       "0       3        1110         7      3301       15766         1212   \n",
       "1       3        1110         7      3301       15766         1216   \n",
       "2       3        1110         7      3301       15766         1238   \n",
       "\n",
       "   Venta_uni_hoy  Venta_hoy  Dev_uni_proxima  Dev_proxima  Demanda_uni_equil  \n",
       "0              3      25.14                0          0.0                  3  \n",
       "1              4      33.52                0          0.0                  4  \n",
       "2              4      39.32                0          0.0                  4  "
      ]
     },
     "execution_count": 29,
     "metadata": {},
     "output_type": "execute_result"
    }
   ],
   "source": [
    "train_ddf.head(3)"
   ]
  },
  {
   "cell_type": "code",
   "execution_count": 30,
   "id": "88c4752b",
   "metadata": {},
   "outputs": [
    {
     "data": {
      "text/plain": [
       "0    3\n",
       "1    4\n",
       "2    5\n",
       "3    6\n",
       "4    7\n",
       "5    8\n",
       "6    9\n",
       "Name: Semana, dtype: int64"
      ]
     },
     "execution_count": 30,
     "metadata": {},
     "output_type": "execute_result"
    }
   ],
   "source": [
    "train_ddf['Semana'].unique().compute() # 3456789"
   ]
  },
  {
   "cell_type": "markdown",
   "id": "289d86b4",
   "metadata": {},
   "source": [
    "> ProductPrice"
   ]
  },
  {
   "cell_type": "code",
   "execution_count": 31,
   "id": "3fc18c10",
   "metadata": {},
   "outputs": [],
   "source": [
    "sale_price_sr = (train_ddf.Venta_hoy / train_ddf.Venta_uni_hoy)\n",
    "return_price_sr = (train_ddf.Dev_proxima / train_ddf.Dev_uni_proxima)\n",
    "product_price_df = pd.DataFrame({'Producto_ID': train_ddf.Producto_ID, 'sale_price': sale_price_sr, 'return_price': return_price_sr})\n",
    "\n",
    "del sale_price_sr\n",
    "del return_price_sr"
   ]
  },
  {
   "cell_type": "code",
   "execution_count": 32,
   "id": "712bd7e8",
   "metadata": {},
   "outputs": [
    {
     "name": "stdout",
     "output_type": "stream",
     "text": [
      "product price's shape: (74180464, 3)\n"
     ]
    },
    {
     "data": {
      "text/html": [
       "<div>\n",
       "<style scoped>\n",
       "    .dataframe tbody tr th:only-of-type {\n",
       "        vertical-align: middle;\n",
       "    }\n",
       "\n",
       "    .dataframe tbody tr th {\n",
       "        vertical-align: top;\n",
       "    }\n",
       "\n",
       "    .dataframe thead th {\n",
       "        text-align: right;\n",
       "    }\n",
       "</style>\n",
       "<table border=\"1\" class=\"dataframe\">\n",
       "  <thead>\n",
       "    <tr style=\"text-align: right;\">\n",
       "      <th></th>\n",
       "      <th>Producto_ID</th>\n",
       "      <th>sale_price</th>\n",
       "      <th>return_price</th>\n",
       "    </tr>\n",
       "  </thead>\n",
       "  <tbody>\n",
       "    <tr>\n",
       "      <th>0</th>\n",
       "      <td>1212</td>\n",
       "      <td>8.38</td>\n",
       "      <td>NaN</td>\n",
       "    </tr>\n",
       "    <tr>\n",
       "      <th>1</th>\n",
       "      <td>1216</td>\n",
       "      <td>8.38</td>\n",
       "      <td>NaN</td>\n",
       "    </tr>\n",
       "    <tr>\n",
       "      <th>2</th>\n",
       "      <td>1238</td>\n",
       "      <td>9.83</td>\n",
       "      <td>NaN</td>\n",
       "    </tr>\n",
       "  </tbody>\n",
       "</table>\n",
       "</div>"
      ],
      "text/plain": [
       "   Producto_ID  sale_price  return_price\n",
       "0         1212        8.38           NaN\n",
       "1         1216        8.38           NaN\n",
       "2         1238        9.83           NaN"
      ]
     },
     "execution_count": 32,
     "metadata": {},
     "output_type": "execute_result"
    }
   ],
   "source": [
    "print(f'product price\\'s shape: {product_price_df.shape}') # ALL DATA shape:(74180464,) \n",
    "product_price_df.head(3)"
   ]
  },
  {
   "cell_type": "markdown",
   "id": "125b46cc",
   "metadata": {},
   "source": [
    "-----\n",
    "-----\n",
    "# Pre-Process "
   ]
  },
  {
   "cell_type": "markdown",
   "id": "846a9889",
   "metadata": {},
   "source": [
    "### town_state"
   ]
  },
  {
   "cell_type": "code",
   "execution_count": 33,
   "id": "2dbac6dd",
   "metadata": {},
   "outputs": [
    {
     "data": {
      "text/plain": [
       "Agencia_ID    0\n",
       "Town          0\n",
       "State         0\n",
       "Town_ID       0\n",
       "Town_name     0\n",
       "dtype: int64"
      ]
     },
     "execution_count": 33,
     "metadata": {},
     "output_type": "execute_result"
    }
   ],
   "source": [
    "town_state_df.isnull().sum()"
   ]
  },
  {
   "cell_type": "code",
   "execution_count": 34,
   "id": "74332e97",
   "metadata": {},
   "outputs": [],
   "source": [
    "town_state_df['Town'] = town_state_df['Town'].str.upper()\n",
    "town_state_df['Town_name'] = town_state_df['Town_name'].str.upper()\n",
    "town_state_df['State'] = town_state_df['State'].str.upper()"
   ]
  },
  {
   "cell_type": "code",
   "execution_count": 35,
   "id": "7c4d108a",
   "metadata": {},
   "outputs": [
    {
     "data": {
      "text/plain": [
       "Town_name\n",
       "PINOTEPA      2\n",
       "LOS MOCHIS    2\n",
       "ACAPONETA     1\n",
       "Name: Town_ID, dtype: int64"
      ]
     },
     "execution_count": 35,
     "metadata": {},
     "output_type": "execute_result"
    }
   ],
   "source": [
    "town_state_df.groupby(['Town_name'])['Town_ID'].nunique().sort_values(ascending=False)[:3]"
   ]
  },
  {
   "cell_type": "code",
   "execution_count": 36,
   "id": "a2959ed5",
   "metadata": {},
   "outputs": [
    {
     "data": {
      "text/html": [
       "<div>\n",
       "<style scoped>\n",
       "    .dataframe tbody tr th:only-of-type {\n",
       "        vertical-align: middle;\n",
       "    }\n",
       "\n",
       "    .dataframe tbody tr th {\n",
       "        vertical-align: top;\n",
       "    }\n",
       "\n",
       "    .dataframe thead th {\n",
       "        text-align: right;\n",
       "    }\n",
       "</style>\n",
       "<table border=\"1\" class=\"dataframe\">\n",
       "  <thead>\n",
       "    <tr style=\"text-align: right;\">\n",
       "      <th></th>\n",
       "      <th>Agencia_ID</th>\n",
       "      <th>Town</th>\n",
       "      <th>State</th>\n",
       "      <th>Town_ID</th>\n",
       "      <th>Town_name</th>\n",
       "    </tr>\n",
       "  </thead>\n",
       "  <tbody>\n",
       "    <tr>\n",
       "      <th>211</th>\n",
       "      <td>1544</td>\n",
       "      <td>2561 LOS MOCHIS</td>\n",
       "      <td>SINALOA</td>\n",
       "      <td>2561</td>\n",
       "      <td>LOS MOCHIS</td>\n",
       "    </tr>\n",
       "    <tr>\n",
       "      <th>227</th>\n",
       "      <td>1564</td>\n",
       "      <td>2561 LOS MOCHIS</td>\n",
       "      <td>SINALOA</td>\n",
       "      <td>2561</td>\n",
       "      <td>LOS MOCHIS</td>\n",
       "    </tr>\n",
       "    <tr>\n",
       "      <th>248</th>\n",
       "      <td>1598</td>\n",
       "      <td>2561 LOS MOCHIS</td>\n",
       "      <td>SINALOA</td>\n",
       "      <td>2561</td>\n",
       "      <td>LOS MOCHIS</td>\n",
       "    </tr>\n",
       "    <tr>\n",
       "      <th>498</th>\n",
       "      <td>2655</td>\n",
       "      <td>2655 LOS MOCHIS</td>\n",
       "      <td>SINALOA</td>\n",
       "      <td>2655</td>\n",
       "      <td>LOS MOCHIS</td>\n",
       "    </tr>\n",
       "    <tr>\n",
       "      <th>774</th>\n",
       "      <td>25619</td>\n",
       "      <td>2561 LOS MOCHIS</td>\n",
       "      <td>SINALOA</td>\n",
       "      <td>2561</td>\n",
       "      <td>LOS MOCHIS</td>\n",
       "    </tr>\n",
       "    <tr>\n",
       "      <th>372</th>\n",
       "      <td>2023</td>\n",
       "      <td>2169 PINOTEPA</td>\n",
       "      <td>OAXACA</td>\n",
       "      <td>2169</td>\n",
       "      <td>PINOTEPA</td>\n",
       "    </tr>\n",
       "    <tr>\n",
       "      <th>387</th>\n",
       "      <td>2055</td>\n",
       "      <td>2055 PINOTEPA</td>\n",
       "      <td>PUEBLA</td>\n",
       "      <td>2055</td>\n",
       "      <td>PINOTEPA</td>\n",
       "    </tr>\n",
       "    <tr>\n",
       "      <th>599</th>\n",
       "      <td>21699</td>\n",
       "      <td>2169 PINOTEPA</td>\n",
       "      <td>OAXACA</td>\n",
       "      <td>2169</td>\n",
       "      <td>PINOTEPA</td>\n",
       "    </tr>\n",
       "  </tbody>\n",
       "</table>\n",
       "</div>"
      ],
      "text/plain": [
       "     Agencia_ID             Town    State  Town_ID   Town_name\n",
       "211        1544  2561 LOS MOCHIS  SINALOA     2561  LOS MOCHIS\n",
       "227        1564  2561 LOS MOCHIS  SINALOA     2561  LOS MOCHIS\n",
       "248        1598  2561 LOS MOCHIS  SINALOA     2561  LOS MOCHIS\n",
       "498        2655  2655 LOS MOCHIS  SINALOA     2655  LOS MOCHIS\n",
       "774       25619  2561 LOS MOCHIS  SINALOA     2561  LOS MOCHIS\n",
       "372        2023    2169 PINOTEPA   OAXACA     2169    PINOTEPA\n",
       "387        2055    2055 PINOTEPA   PUEBLA     2055    PINOTEPA\n",
       "599       21699    2169 PINOTEPA   OAXACA     2169    PINOTEPA"
      ]
     },
     "execution_count": 36,
     "metadata": {},
     "output_type": "execute_result"
    }
   ],
   "source": [
    "town_state_df[(town_state_df['Town_name'].isin(['LOS MOCHIS', 'PINOTEPA']))].sort_values(by='Town_name')"
   ]
  },
  {
   "cell_type": "code",
   "execution_count": 37,
   "id": "36b2ff82",
   "metadata": {},
   "outputs": [
    {
     "data": {
      "text/plain": [
       "Agencia_ID               2655\n",
       "Town          2655 LOS MOCHIS\n",
       "State                 SINALOA\n",
       "Town_ID                  2655\n",
       "Town_name          LOS MOCHIS\n",
       "Name: 498, dtype: object"
      ]
     },
     "execution_count": 37,
     "metadata": {},
     "output_type": "execute_result"
    }
   ],
   "source": [
    "town_state_df.loc[498] # what is Town_ID "
   ]
  },
  {
   "cell_type": "code",
   "execution_count": 38,
   "id": "0cbf8912",
   "metadata": {},
   "outputs": [],
   "source": [
    "town_state_df.loc[498, 'Town_ID'] = 2561"
   ]
  },
  {
   "cell_type": "code",
   "execution_count": 39,
   "id": "ea81c66e",
   "metadata": {},
   "outputs": [
    {
     "data": {
      "text/plain": [
       "Town_ID\n",
       "2169    2\n",
       "2152    2\n",
       "2561    2\n",
       "2001    1\n",
       "2391    1\n",
       "       ..\n",
       "2257    1\n",
       "2258    1\n",
       "2259    1\n",
       "2260    1\n",
       "3216    1\n",
       "Name: Town, Length: 256, dtype: int64"
      ]
     },
     "execution_count": 39,
     "metadata": {},
     "output_type": "execute_result"
    }
   ],
   "source": [
    "town_state_df.groupby('Town_ID')['Town'].nunique().sort_values(ascending=False)"
   ]
  },
  {
   "cell_type": "code",
   "execution_count": 40,
   "id": "4b6adc6b",
   "metadata": {},
   "outputs": [
    {
     "data": {
      "text/html": [
       "<div>\n",
       "<style scoped>\n",
       "    .dataframe tbody tr th:only-of-type {\n",
       "        vertical-align: middle;\n",
       "    }\n",
       "\n",
       "    .dataframe tbody tr th {\n",
       "        vertical-align: top;\n",
       "    }\n",
       "\n",
       "    .dataframe thead th {\n",
       "        text-align: right;\n",
       "    }\n",
       "</style>\n",
       "<table border=\"1\" class=\"dataframe\">\n",
       "  <thead>\n",
       "    <tr style=\"text-align: right;\">\n",
       "      <th></th>\n",
       "      <th>Agencia_ID</th>\n",
       "      <th>Town</th>\n",
       "      <th>State</th>\n",
       "      <th>Town_ID</th>\n",
       "      <th>Town_name</th>\n",
       "    </tr>\n",
       "  </thead>\n",
       "  <tbody>\n",
       "    <tr>\n",
       "      <th>199</th>\n",
       "      <td>1524</td>\n",
       "      <td>2152 CRUCE DE ANDEN NOROESTE</td>\n",
       "      <td>BAJA CALIFORNIA NORTE</td>\n",
       "      <td>2152</td>\n",
       "      <td>CRUCE DE ANDEN NOROESTE</td>\n",
       "    </tr>\n",
       "    <tr>\n",
       "      <th>371</th>\n",
       "      <td>2022</td>\n",
       "      <td>2152 ALTAMIRANO_BM</td>\n",
       "      <td>GUERRERO</td>\n",
       "      <td>2152</td>\n",
       "      <td>ALTAMIRANO_BM</td>\n",
       "    </tr>\n",
       "    <tr>\n",
       "      <th>583</th>\n",
       "      <td>21529</td>\n",
       "      <td>2152 ALTAMIRANO_BM</td>\n",
       "      <td>GUERRERO</td>\n",
       "      <td>2152</td>\n",
       "      <td>ALTAMIRANO_BM</td>\n",
       "    </tr>\n",
       "    <tr>\n",
       "      <th>311</th>\n",
       "      <td>1694</td>\n",
       "      <td>2169 CRUCE DE ANDÉN SURESTE</td>\n",
       "      <td>PUEBLA</td>\n",
       "      <td>2169</td>\n",
       "      <td>CRUCE DE ANDÉN SURESTE</td>\n",
       "    </tr>\n",
       "    <tr>\n",
       "      <th>372</th>\n",
       "      <td>2023</td>\n",
       "      <td>2169 PINOTEPA</td>\n",
       "      <td>OAXACA</td>\n",
       "      <td>2169</td>\n",
       "      <td>PINOTEPA</td>\n",
       "    </tr>\n",
       "    <tr>\n",
       "      <th>599</th>\n",
       "      <td>21699</td>\n",
       "      <td>2169 PINOTEPA</td>\n",
       "      <td>OAXACA</td>\n",
       "      <td>2169</td>\n",
       "      <td>PINOTEPA</td>\n",
       "    </tr>\n",
       "    <tr>\n",
       "      <th>211</th>\n",
       "      <td>1544</td>\n",
       "      <td>2561 LOS MOCHIS</td>\n",
       "      <td>SINALOA</td>\n",
       "      <td>2561</td>\n",
       "      <td>LOS MOCHIS</td>\n",
       "    </tr>\n",
       "    <tr>\n",
       "      <th>227</th>\n",
       "      <td>1564</td>\n",
       "      <td>2561 LOS MOCHIS</td>\n",
       "      <td>SINALOA</td>\n",
       "      <td>2561</td>\n",
       "      <td>LOS MOCHIS</td>\n",
       "    </tr>\n",
       "    <tr>\n",
       "      <th>248</th>\n",
       "      <td>1598</td>\n",
       "      <td>2561 LOS MOCHIS</td>\n",
       "      <td>SINALOA</td>\n",
       "      <td>2561</td>\n",
       "      <td>LOS MOCHIS</td>\n",
       "    </tr>\n",
       "    <tr>\n",
       "      <th>498</th>\n",
       "      <td>2655</td>\n",
       "      <td>2655 LOS MOCHIS</td>\n",
       "      <td>SINALOA</td>\n",
       "      <td>2561</td>\n",
       "      <td>LOS MOCHIS</td>\n",
       "    </tr>\n",
       "    <tr>\n",
       "      <th>774</th>\n",
       "      <td>25619</td>\n",
       "      <td>2561 LOS MOCHIS</td>\n",
       "      <td>SINALOA</td>\n",
       "      <td>2561</td>\n",
       "      <td>LOS MOCHIS</td>\n",
       "    </tr>\n",
       "  </tbody>\n",
       "</table>\n",
       "</div>"
      ],
      "text/plain": [
       "     Agencia_ID                          Town                  State  Town_ID  \\\n",
       "199        1524  2152 CRUCE DE ANDEN NOROESTE  BAJA CALIFORNIA NORTE     2152   \n",
       "371        2022            2152 ALTAMIRANO_BM               GUERRERO     2152   \n",
       "583       21529            2152 ALTAMIRANO_BM               GUERRERO     2152   \n",
       "311        1694   2169 CRUCE DE ANDÉN SURESTE                 PUEBLA     2169   \n",
       "372        2023                 2169 PINOTEPA                 OAXACA     2169   \n",
       "599       21699                 2169 PINOTEPA                 OAXACA     2169   \n",
       "211        1544               2561 LOS MOCHIS                SINALOA     2561   \n",
       "227        1564               2561 LOS MOCHIS                SINALOA     2561   \n",
       "248        1598               2561 LOS MOCHIS                SINALOA     2561   \n",
       "498        2655               2655 LOS MOCHIS                SINALOA     2561   \n",
       "774       25619               2561 LOS MOCHIS                SINALOA     2561   \n",
       "\n",
       "                   Town_name  \n",
       "199  CRUCE DE ANDEN NOROESTE  \n",
       "371            ALTAMIRANO_BM  \n",
       "583            ALTAMIRANO_BM  \n",
       "311   CRUCE DE ANDÉN SURESTE  \n",
       "372                 PINOTEPA  \n",
       "599                 PINOTEPA  \n",
       "211               LOS MOCHIS  \n",
       "227               LOS MOCHIS  \n",
       "248               LOS MOCHIS  \n",
       "498               LOS MOCHIS  \n",
       "774               LOS MOCHIS  "
      ]
     },
     "execution_count": 40,
     "metadata": {},
     "output_type": "execute_result"
    }
   ],
   "source": [
    "town_state_df[town_state_df.Town_ID.isin([2561, 2169, 2152])].sort_values(by='Town_ID')"
   ]
  },
  {
   "cell_type": "code",
   "execution_count": 41,
   "id": "9b148a3b",
   "metadata": {},
   "outputs": [
    {
     "data": {
      "text/plain": [
       "3216"
      ]
     },
     "execution_count": 41,
     "metadata": {},
     "output_type": "execute_result"
    }
   ],
   "source": [
    "town_state_df['Town_ID'].max()"
   ]
  },
  {
   "cell_type": "code",
   "execution_count": 42,
   "id": "756d93d2",
   "metadata": {},
   "outputs": [
    {
     "data": {
      "text/plain": [
       "(Agencia_ID                            1524\n",
       " Town          2152 CRUCE DE ANDEN NOROESTE\n",
       " State                BAJA CALIFORNIA NORTE\n",
       " Town_ID                               2152\n",
       " Town_name          CRUCE DE ANDEN NOROESTE\n",
       " Name: 199, dtype: object,\n",
       " Agencia_ID                           1694\n",
       " Town          2169 CRUCE DE ANDÉN SURESTE\n",
       " State                              PUEBLA\n",
       " Town_ID                              2169\n",
       " Town_name          CRUCE DE ANDÉN SURESTE\n",
       " Name: 311, dtype: object)"
      ]
     },
     "execution_count": 42,
     "metadata": {},
     "output_type": "execute_result"
    }
   ],
   "source": [
    "town_state_df.loc[199], town_state_df.loc[311]"
   ]
  },
  {
   "cell_type": "code",
   "execution_count": 43,
   "id": "f6166bc0",
   "metadata": {},
   "outputs": [],
   "source": [
    "town_state_df.loc[199, 'Town_ID'] = 3217\n",
    "town_state_df.loc[311, 'Town_ID'] = 3218"
   ]
  },
  {
   "cell_type": "code",
   "execution_count": 44,
   "id": "2de144bb",
   "metadata": {},
   "outputs": [
    {
     "data": {
      "text/plain": [
       "258"
      ]
     },
     "execution_count": 44,
     "metadata": {},
     "output_type": "execute_result"
    }
   ],
   "source": [
    "town_state_df['Town_ID'].nunique()"
   ]
  },
  {
   "cell_type": "markdown",
   "id": "0f013dde",
   "metadata": {},
   "source": [
    "### product_price"
   ]
  },
  {
   "cell_type": "code",
   "execution_count": 45,
   "id": "b8863d23",
   "metadata": {},
   "outputs": [
    {
     "data": {
      "text/html": [
       "<div>\n",
       "<style scoped>\n",
       "    .dataframe tbody tr th:only-of-type {\n",
       "        vertical-align: middle;\n",
       "    }\n",
       "\n",
       "    .dataframe tbody tr th {\n",
       "        vertical-align: top;\n",
       "    }\n",
       "\n",
       "    .dataframe thead th {\n",
       "        text-align: right;\n",
       "    }\n",
       "</style>\n",
       "<table border=\"1\" class=\"dataframe\">\n",
       "  <thead>\n",
       "    <tr style=\"text-align: right;\">\n",
       "      <th></th>\n",
       "      <th>Producto_ID</th>\n",
       "      <th>price</th>\n",
       "    </tr>\n",
       "  </thead>\n",
       "  <tbody>\n",
       "    <tr>\n",
       "      <th>0</th>\n",
       "      <td>41</td>\n",
       "      <td>18.13</td>\n",
       "    </tr>\n",
       "    <tr>\n",
       "      <th>1</th>\n",
       "      <td>53</td>\n",
       "      <td>14.30</td>\n",
       "    </tr>\n",
       "    <tr>\n",
       "      <th>2</th>\n",
       "      <td>72</td>\n",
       "      <td>3.70</td>\n",
       "    </tr>\n",
       "  </tbody>\n",
       "</table>\n",
       "</div>"
      ],
      "text/plain": [
       "   Producto_ID  price\n",
       "0           41  18.13\n",
       "1           53  14.30\n",
       "2           72   3.70"
      ]
     },
     "execution_count": 45,
     "metadata": {},
     "output_type": "execute_result"
    }
   ],
   "source": [
    "sale_prices_df = product_price_df.drop('return_price', axis=1).dropna().rename(columns={'sale_price': 'price'})\n",
    "return_prices_df = product_price_df.drop('sale_price', axis=1).dropna().rename(columns={'return_price': 'price'})\n",
    "prices_df = pd.concat([sale_prices_df, return_prices_df])\n",
    "prices_df = prices_df.groupby('Producto_ID')['price'].median().reset_index()\n",
    "prices_df.head(3)"
   ]
  },
  {
   "cell_type": "code",
   "execution_count": 46,
   "id": "8bdf0c15",
   "metadata": {},
   "outputs": [
    {
     "data": {
      "text/plain": [
       "Producto_ID    0\n",
       "price          0\n",
       "dtype: int64"
      ]
     },
     "execution_count": 46,
     "metadata": {},
     "output_type": "execute_result"
    }
   ],
   "source": [
    "prices_df.isnull().sum()"
   ]
  },
  {
   "cell_type": "code",
   "execution_count": 47,
   "id": "547e78ed",
   "metadata": {},
   "outputs": [
    {
     "data": {
      "text/plain": [
       "(1799, 2)"
      ]
     },
     "execution_count": 47,
     "metadata": {},
     "output_type": "execute_result"
    }
   ],
   "source": [
    "prices_df.shape"
   ]
  },
  {
   "cell_type": "markdown",
   "id": "7e46586d",
   "metadata": {},
   "source": [
    "### product"
   ]
  },
  {
   "cell_type": "code",
   "execution_count": 48,
   "id": "b4e6c8ff",
   "metadata": {},
   "outputs": [],
   "source": [
    "product_df['in_train'] = 0\n",
    "product_df['in_test'] = 0\n",
    "product_df.loc[product_df['Producto_ID'].isin(test_df['Producto_ID'].unique()), 'in_test'] = 1\n",
    "product_df.loc[product_df['Producto_ID'].isin(train_df['Producto_ID'].unique()), 'in_train'] = 1\n",
    "product_df = product_df[(product_df['in_test'] == 1) | (product_df['in_train'] == 1)]"
   ]
  },
  {
   "cell_type": "markdown",
   "id": "e0afa33d",
   "metadata": {},
   "source": [
    "### product_df : property"
   ]
  },
  {
   "cell_type": "code",
   "execution_count": 49,
   "id": "25a91a9d",
   "metadata": {},
   "outputs": [
    {
     "data": {
      "text/html": [
       "<div>\n",
       "<style scoped>\n",
       "    .dataframe tbody tr th:only-of-type {\n",
       "        vertical-align: middle;\n",
       "    }\n",
       "\n",
       "    .dataframe tbody tr th {\n",
       "        vertical-align: top;\n",
       "    }\n",
       "\n",
       "    .dataframe thead th {\n",
       "        text-align: right;\n",
       "    }\n",
       "</style>\n",
       "<table border=\"1\" class=\"dataframe\">\n",
       "  <thead>\n",
       "    <tr style=\"text-align: right;\">\n",
       "      <th></th>\n",
       "      <th>Producto_ID</th>\n",
       "      <th>NombreProducto</th>\n",
       "      <th>popular_name</th>\n",
       "      <th>property</th>\n",
       "      <th>unit</th>\n",
       "      <th>pieces</th>\n",
       "      <th>in_train</th>\n",
       "      <th>in_test</th>\n",
       "    </tr>\n",
       "  </thead>\n",
       "  <tbody>\n",
       "    <tr>\n",
       "      <th>381</th>\n",
       "      <td>30099</td>\n",
       "      <td>Camioncitos Bimbo BIM 30099</td>\n",
       "      <td>NaN</td>\n",
       "      <td>NaN</td>\n",
       "      <td>NaN</td>\n",
       "      <td>NaN</td>\n",
       "      <td>1</td>\n",
       "      <td>1</td>\n",
       "    </tr>\n",
       "    <tr>\n",
       "      <th>1152</th>\n",
       "      <td>34646</td>\n",
       "      <td>Burrito Vaporero FrijolChorizo90gCU LON 34646</td>\n",
       "      <td>NaN</td>\n",
       "      <td>NaN</td>\n",
       "      <td>NaN</td>\n",
       "      <td>NaN</td>\n",
       "      <td>1</td>\n",
       "      <td>1</td>\n",
       "    </tr>\n",
       "    <tr>\n",
       "      <th>1677</th>\n",
       "      <td>36659</td>\n",
       "      <td>Tarima Twin Pack Thins Multig CU ORO 36659</td>\n",
       "      <td>NaN</td>\n",
       "      <td>NaN</td>\n",
       "      <td>NaN</td>\n",
       "      <td>NaN</td>\n",
       "      <td>0</td>\n",
       "      <td>1</td>\n",
       "    </tr>\n",
       "    <tr>\n",
       "      <th>1888</th>\n",
       "      <td>37569</td>\n",
       "      <td>Deliciosas Chochochispas 204gPromMTA LAR 37569</td>\n",
       "      <td>NaN</td>\n",
       "      <td>NaN</td>\n",
       "      <td>204g</td>\n",
       "      <td>NaN</td>\n",
       "      <td>0</td>\n",
       "      <td>1</td>\n",
       "    </tr>\n",
       "    <tr>\n",
       "      <th>1889</th>\n",
       "      <td>37570</td>\n",
       "      <td>Deliciosas Chochochispas 204gProm LAR 37570</td>\n",
       "      <td>NaN</td>\n",
       "      <td>NaN</td>\n",
       "      <td>204g</td>\n",
       "      <td>NaN</td>\n",
       "      <td>0</td>\n",
       "      <td>1</td>\n",
       "    </tr>\n",
       "    <tr>\n",
       "      <th>2449</th>\n",
       "      <td>48033</td>\n",
       "      <td>Galleta Granel Classics Chocolate GBI 48033</td>\n",
       "      <td>NaN</td>\n",
       "      <td>NaN</td>\n",
       "      <td>NaN</td>\n",
       "      <td>NaN</td>\n",
       "      <td>0</td>\n",
       "      <td>1</td>\n",
       "    </tr>\n",
       "  </tbody>\n",
       "</table>\n",
       "</div>"
      ],
      "text/plain": [
       "      Producto_ID                                  NombreProducto  \\\n",
       "381         30099                     Camioncitos Bimbo BIM 30099   \n",
       "1152        34646   Burrito Vaporero FrijolChorizo90gCU LON 34646   \n",
       "1677        36659      Tarima Twin Pack Thins Multig CU ORO 36659   \n",
       "1888        37569  Deliciosas Chochochispas 204gPromMTA LAR 37569   \n",
       "1889        37570     Deliciosas Chochochispas 204gProm LAR 37570   \n",
       "2449        48033     Galleta Granel Classics Chocolate GBI 48033   \n",
       "\n",
       "     popular_name property   unit pieces  in_train  in_test  \n",
       "381           NaN      NaN    NaN    NaN         1        1  \n",
       "1152          NaN      NaN    NaN    NaN         1        1  \n",
       "1677          NaN      NaN    NaN    NaN         0        1  \n",
       "1888          NaN      NaN   204g    NaN         0        1  \n",
       "1889          NaN      NaN   204g    NaN         0        1  \n",
       "2449          NaN      NaN    NaN    NaN         0        1  "
      ]
     },
     "execution_count": 49,
     "metadata": {},
     "output_type": "execute_result"
    }
   ],
   "source": [
    "product_df[product_df['property'].isnull()]"
   ]
  },
  {
   "cell_type": "code",
   "execution_count": 50,
   "id": "70752d85",
   "metadata": {},
   "outputs": [
    {
     "data": {
      "text/plain": [
       "Producto_ID         0\n",
       "NombreProducto      0\n",
       "popular_name        9\n",
       "property            6\n",
       "unit               28\n",
       "pieces            927\n",
       "in_train            0\n",
       "in_test             0\n",
       "dtype: int64"
      ]
     },
     "execution_count": 50,
     "metadata": {},
     "output_type": "execute_result"
    }
   ],
   "source": [
    "product_df.isnull().sum()"
   ]
  },
  {
   "cell_type": "code",
   "execution_count": 51,
   "id": "1ec69899",
   "metadata": {},
   "outputs": [],
   "source": [
    "# 上記isnull以外のデータにデータを挿入すると本来存在していないデータが発生するのでエラーの原因となる\n",
    "\n",
    "#product_df.loc[117, 'popular_name'] = 'Donas'\n",
    "#product_df.loc[117, 'property'] = 'Prom BIM'\n",
    "#product_df.loc[117, 'unit'] = None\n",
    "#product_df.loc[117, 'pieces'] = '6p'\n",
    "\n",
    "#product_df.loc[190, 'popular_name'] = 'Paletina para Cafe'\n",
    "#product_df.loc[190, 'property'] = 'NES'\n",
    "#product_df.loc[190, 'unit'] = None\n",
    "#product_df.loc[190, 'pieces'] = None\n",
    "\n",
    "product_df.loc[381, 'popular_name'] = 'Camioncitos Bimbo'\n",
    "product_df.loc[381, 'property'] = 'BIM'\n",
    "product_df.loc[381, 'unit'] = None\n",
    "product_df.loc[381, 'pieces'] = None\n",
    "\n",
    "product_df.loc[1152, 'popular_name'] = 'Burrito Vaporero FrijolChorizo'\n",
    "product_df.loc[1152, 'property'] = 'CU LON'\n",
    "product_df.loc[1152, 'unit'] = '90g'\n",
    "product_df.loc[1152, 'pieces'] = None\n",
    "\n",
    "product_df.loc[1677, 'popular_name'] = 'Tarima Twin Pack Thins Multig'\n",
    "product_df.loc[1677, 'property'] = 'CU ORO'\n",
    "product_df.loc[1677, 'unit'] = None\n",
    "product_df.loc[1677, 'pieces'] = None\n",
    "\n",
    "product_df.loc[1888, 'popular_name'] = 'Deliciosas Chochochispas'\n",
    "product_df.loc[1888, 'property'] = 'Prom MTA LAR'\n",
    "product_df.loc[1888, 'unit'] = '204g'\n",
    "product_df.loc[1888, 'pieces'] = None\n",
    "\n",
    "product_df.loc[1889, 'popular_name'] = 'Deliciosas Chochochispas'\n",
    "product_df.loc[1889, 'property'] = 'Prom LAR'\n",
    "product_df.loc[1889, 'unit'] = '204g'\n",
    "product_df.loc[1889, 'pieces'] = None\n",
    "\n",
    "product_df.loc[2449, 'popular_name'] = 'Galleta Granel Classics Chocolate'\n",
    "product_df.loc[2449, 'property'] = 'GBI'\n",
    "product_df.loc[2449, 'unit'] = None\n",
    "product_df.loc[2449, 'pieces'] = None"
   ]
  },
  {
   "cell_type": "markdown",
   "id": "b41847fb",
   "metadata": {},
   "source": [
    "### product_df : popular_name"
   ]
  },
  {
   "cell_type": "code",
   "execution_count": 52,
   "id": "e2edfabc",
   "metadata": {},
   "outputs": [
    {
     "data": {
      "text/html": [
       "<div>\n",
       "<style scoped>\n",
       "    .dataframe tbody tr th:only-of-type {\n",
       "        vertical-align: middle;\n",
       "    }\n",
       "\n",
       "    .dataframe tbody tr th {\n",
       "        vertical-align: top;\n",
       "    }\n",
       "\n",
       "    .dataframe thead th {\n",
       "        text-align: right;\n",
       "    }\n",
       "</style>\n",
       "<table border=\"1\" class=\"dataframe\">\n",
       "  <thead>\n",
       "    <tr style=\"text-align: right;\">\n",
       "      <th></th>\n",
       "      <th>Producto_ID</th>\n",
       "      <th>NombreProducto</th>\n",
       "      <th>popular_name</th>\n",
       "      <th>property</th>\n",
       "      <th>unit</th>\n",
       "      <th>pieces</th>\n",
       "      <th>in_train</th>\n",
       "      <th>in_test</th>\n",
       "    </tr>\n",
       "  </thead>\n",
       "  <tbody>\n",
       "    <tr>\n",
       "      <th>877</th>\n",
       "      <td>32841</td>\n",
       "      <td>Tortilla Hna Chihuahua 10p535g SP MTA DH 32841</td>\n",
       "      <td>NaN</td>\n",
       "      <td>SP MTA DH</td>\n",
       "      <td>NaN</td>\n",
       "      <td>NaN</td>\n",
       "      <td>1</td>\n",
       "      <td>1</td>\n",
       "    </tr>\n",
       "    <tr>\n",
       "      <th>1585</th>\n",
       "      <td>36323</td>\n",
       "      <td>Principe Cho Bco MG 10p110g Prom CR1 MLA 36323</td>\n",
       "      <td>NaN</td>\n",
       "      <td>Prom CR1 MLA</td>\n",
       "      <td>NaN</td>\n",
       "      <td>NaN</td>\n",
       "      <td>1</td>\n",
       "      <td>1</td>\n",
       "    </tr>\n",
       "    <tr>\n",
       "      <th>1748</th>\n",
       "      <td>36927</td>\n",
       "      <td>Combo Salma mas Levite1360g Prom CUB SAN 36927</td>\n",
       "      <td>NaN</td>\n",
       "      <td>Prom CUB SAN</td>\n",
       "      <td>NaN</td>\n",
       "      <td>NaN</td>\n",
       "      <td>1</td>\n",
       "      <td>0</td>\n",
       "    </tr>\n",
       "  </tbody>\n",
       "</table>\n",
       "</div>"
      ],
      "text/plain": [
       "      Producto_ID                                  NombreProducto  \\\n",
       "877         32841  Tortilla Hna Chihuahua 10p535g SP MTA DH 32841   \n",
       "1585        36323  Principe Cho Bco MG 10p110g Prom CR1 MLA 36323   \n",
       "1748        36927  Combo Salma mas Levite1360g Prom CUB SAN 36927   \n",
       "\n",
       "     popular_name      property unit pieces  in_train  in_test  \n",
       "877           NaN     SP MTA DH  NaN    NaN         1        1  \n",
       "1585          NaN  Prom CR1 MLA  NaN    NaN         1        1  \n",
       "1748          NaN  Prom CUB SAN  NaN    NaN         1        0  "
      ]
     },
     "execution_count": 52,
     "metadata": {},
     "output_type": "execute_result"
    }
   ],
   "source": [
    "product_df[product_df['popular_name'].isnull()]"
   ]
  },
  {
   "cell_type": "code",
   "execution_count": 53,
   "id": "b84e6891",
   "metadata": {},
   "outputs": [],
   "source": [
    "product_df.loc[877, 'popular_name'] = 'Tortilla Hna Chihuahua'\n",
    "product_df.loc[877, 'unit'] = '535g'\n",
    "product_df.loc[877, 'pieces'] = '10p'\n",
    "\n",
    "product_df.loc[1585, 'popular_name'] = 'Principe Cho Bco MG'\n",
    "product_df.loc[1585, 'unit'] = '110g'\n",
    "product_df.loc[1585, 'pieces'] = '10p'\n",
    "\n",
    "product_df.loc[1748, 'popular_name'] = 'Combo Salma mas Levite'\n",
    "product_df.loc[1748, 'unit'] = '1360g'\n",
    "product_df.loc[1748, 'pieces'] = None"
   ]
  },
  {
   "cell_type": "markdown",
   "id": "28563edf",
   "metadata": {},
   "source": [
    "### product_df : pieces"
   ]
  },
  {
   "cell_type": "code",
   "execution_count": 54,
   "id": "b9baf44f",
   "metadata": {},
   "outputs": [
    {
     "data": {
      "text/html": [
       "<div>\n",
       "<style scoped>\n",
       "    .dataframe tbody tr th:only-of-type {\n",
       "        vertical-align: middle;\n",
       "    }\n",
       "\n",
       "    .dataframe tbody tr th {\n",
       "        vertical-align: top;\n",
       "    }\n",
       "\n",
       "    .dataframe thead th {\n",
       "        text-align: right;\n",
       "    }\n",
       "</style>\n",
       "<table border=\"1\" class=\"dataframe\">\n",
       "  <thead>\n",
       "    <tr style=\"text-align: right;\">\n",
       "      <th></th>\n",
       "      <th>Producto_ID</th>\n",
       "      <th>NombreProducto</th>\n",
       "      <th>popular_name</th>\n",
       "      <th>property</th>\n",
       "      <th>unit</th>\n",
       "      <th>pieces</th>\n",
       "      <th>in_train</th>\n",
       "      <th>in_test</th>\n",
       "    </tr>\n",
       "  </thead>\n",
       "  <tbody>\n",
       "    <tr>\n",
       "      <th>3</th>\n",
       "      <td>53</td>\n",
       "      <td>Burritos Sincro 170g CU LON 53</td>\n",
       "      <td>Burritos Sincro</td>\n",
       "      <td>CU LON</td>\n",
       "      <td>170g</td>\n",
       "      <td>NaN</td>\n",
       "      <td>1</td>\n",
       "      <td>1</td>\n",
       "    </tr>\n",
       "    <tr>\n",
       "      <th>5</th>\n",
       "      <td>73</td>\n",
       "      <td>Pan Multigrano Linaza 540g BIM 73</td>\n",
       "      <td>Pan Multigrano Linaza</td>\n",
       "      <td>BIM</td>\n",
       "      <td>540g</td>\n",
       "      <td>NaN</td>\n",
       "      <td>1</td>\n",
       "      <td>1</td>\n",
       "    </tr>\n",
       "    <tr>\n",
       "      <th>6</th>\n",
       "      <td>98</td>\n",
       "      <td>Tostado Integral 180g WON 98</td>\n",
       "      <td>Tostado Integral</td>\n",
       "      <td>WON</td>\n",
       "      <td>180g</td>\n",
       "      <td>NaN</td>\n",
       "      <td>0</td>\n",
       "      <td>1</td>\n",
       "    </tr>\n",
       "    <tr>\n",
       "      <th>8</th>\n",
       "      <td>100</td>\n",
       "      <td>Super Pan Bco Ajonjoli 680g SP WON 100</td>\n",
       "      <td>Super Pan Bco Ajonjoli</td>\n",
       "      <td>SP WON</td>\n",
       "      <td>680g</td>\n",
       "      <td>NaN</td>\n",
       "      <td>1</td>\n",
       "      <td>1</td>\n",
       "    </tr>\n",
       "    <tr>\n",
       "      <th>9</th>\n",
       "      <td>106</td>\n",
       "      <td>Wonder 100pct mediano 475g WON 106</td>\n",
       "      <td>Wonder 100pct mediano</td>\n",
       "      <td>WON</td>\n",
       "      <td>475g</td>\n",
       "      <td>NaN</td>\n",
       "      <td>1</td>\n",
       "      <td>1</td>\n",
       "    </tr>\n",
       "    <tr>\n",
       "      <th>...</th>\n",
       "      <td>...</td>\n",
       "      <td>...</td>\n",
       "      <td>...</td>\n",
       "      <td>...</td>\n",
       "      <td>...</td>\n",
       "      <td>...</td>\n",
       "      <td>...</td>\n",
       "      <td>...</td>\n",
       "    </tr>\n",
       "    <tr>\n",
       "      <th>2587</th>\n",
       "      <td>49992</td>\n",
       "      <td>Tostado Integral 180g MTA WON 49992</td>\n",
       "      <td>Tostado Integral</td>\n",
       "      <td>MTA WON</td>\n",
       "      <td>180g</td>\n",
       "      <td>NaN</td>\n",
       "      <td>1</td>\n",
       "      <td>1</td>\n",
       "    </tr>\n",
       "    <tr>\n",
       "      <th>2588</th>\n",
       "      <td>49993</td>\n",
       "      <td>Tostado Integral 180g TAB WON 49993</td>\n",
       "      <td>Tostado Integral</td>\n",
       "      <td>TAB WON</td>\n",
       "      <td>180g</td>\n",
       "      <td>NaN</td>\n",
       "      <td>1</td>\n",
       "      <td>1</td>\n",
       "    </tr>\n",
       "    <tr>\n",
       "      <th>2589</th>\n",
       "      <td>49994</td>\n",
       "      <td>Tostado Int 0pct Grasa Azuc 200g WON 49994</td>\n",
       "      <td>Tostado Int 0pct Grasa Azuc</td>\n",
       "      <td>WON</td>\n",
       "      <td>200g</td>\n",
       "      <td>NaN</td>\n",
       "      <td>1</td>\n",
       "      <td>1</td>\n",
       "    </tr>\n",
       "    <tr>\n",
       "      <th>2590</th>\n",
       "      <td>49996</td>\n",
       "      <td>Tostado Int 0pct Grasa Azuc 200g MTA WON 49996</td>\n",
       "      <td>Tostado Int 0pct Grasa Azuc</td>\n",
       "      <td>MTA WON</td>\n",
       "      <td>200g</td>\n",
       "      <td>NaN</td>\n",
       "      <td>1</td>\n",
       "      <td>1</td>\n",
       "    </tr>\n",
       "    <tr>\n",
       "      <th>2591</th>\n",
       "      <td>49997</td>\n",
       "      <td>Tostado Int 0pct Grasa Azuc 200g TAB WON 49997</td>\n",
       "      <td>Tostado Int 0pct Grasa Azuc</td>\n",
       "      <td>TAB WON</td>\n",
       "      <td>200g</td>\n",
       "      <td>NaN</td>\n",
       "      <td>1</td>\n",
       "      <td>1</td>\n",
       "    </tr>\n",
       "  </tbody>\n",
       "</table>\n",
       "<p>925 rows × 8 columns</p>\n",
       "</div>"
      ],
      "text/plain": [
       "      Producto_ID                                  NombreProducto  \\\n",
       "3              53                  Burritos Sincro 170g CU LON 53   \n",
       "5              73               Pan Multigrano Linaza 540g BIM 73   \n",
       "6              98                    Tostado Integral 180g WON 98   \n",
       "8             100          Super Pan Bco Ajonjoli 680g SP WON 100   \n",
       "9             106              Wonder 100pct mediano 475g WON 106   \n",
       "...           ...                                             ...   \n",
       "2587        49992             Tostado Integral 180g MTA WON 49992   \n",
       "2588        49993             Tostado Integral 180g TAB WON 49993   \n",
       "2589        49994      Tostado Int 0pct Grasa Azuc 200g WON 49994   \n",
       "2590        49996  Tostado Int 0pct Grasa Azuc 200g MTA WON 49996   \n",
       "2591        49997  Tostado Int 0pct Grasa Azuc 200g TAB WON 49997   \n",
       "\n",
       "                     popular_name property   unit pieces  in_train  in_test  \n",
       "3                 Burritos Sincro   CU LON   170g    NaN         1        1  \n",
       "5           Pan Multigrano Linaza      BIM   540g    NaN         1        1  \n",
       "6                Tostado Integral      WON   180g    NaN         0        1  \n",
       "8          Super Pan Bco Ajonjoli   SP WON   680g    NaN         1        1  \n",
       "9           Wonder 100pct mediano      WON   475g    NaN         1        1  \n",
       "...                           ...      ...    ...    ...       ...      ...  \n",
       "2587             Tostado Integral  MTA WON   180g    NaN         1        1  \n",
       "2588             Tostado Integral  TAB WON   180g    NaN         1        1  \n",
       "2589  Tostado Int 0pct Grasa Azuc      WON   200g    NaN         1        1  \n",
       "2590  Tostado Int 0pct Grasa Azuc  MTA WON   200g    NaN         1        1  \n",
       "2591  Tostado Int 0pct Grasa Azuc  TAB WON   200g    NaN         1        1  \n",
       "\n",
       "[925 rows x 8 columns]"
      ]
     },
     "execution_count": 54,
     "metadata": {},
     "output_type": "execute_result"
    }
   ],
   "source": [
    "product_df[product_df['pieces'].isnull()]"
   ]
  },
  {
   "cell_type": "code",
   "execution_count": 55,
   "id": "5882a3d5",
   "metadata": {},
   "outputs": [],
   "source": [
    "product_df['pieces'] = product_df['pieces'].str.extract(r'(\\d+)(p|Reb)')[0]"
   ]
  },
  {
   "cell_type": "code",
   "execution_count": 56,
   "id": "1418a1ac",
   "metadata": {},
   "outputs": [],
   "source": [
    "product_df['weight'] = product_df['unit'].str.strip()\n",
    "product_df['weight'] = product_df['weight'].str.replace(' ', '.')\n",
    "product_df['weight'] = product_df['weight'].str.upper()\n",
    "w = product_df['weight'].str.extract('(.+?)(KG|G|ML)', expand=True)\n",
    "product_df['weight'] = w[0].astype('float') * w[1].map({'KG':1000, 'G':1, 'ML':1})"
   ]
  },
  {
   "cell_type": "markdown",
   "id": "dd24cd9f",
   "metadata": {},
   "source": [
    "## Merge_0 : product_df, prices_df"
   ]
  },
  {
   "cell_type": "code",
   "execution_count": 57,
   "id": "4029ff3d",
   "metadata": {},
   "outputs": [],
   "source": [
    "product_df = pd.merge(product_df, prices_df, how='left')"
   ]
  },
  {
   "cell_type": "markdown",
   "id": "a97166f8",
   "metadata": {},
   "source": [
    "### product_isnull"
   ]
  },
  {
   "cell_type": "code",
   "execution_count": 58,
   "id": "5893d862",
   "metadata": {},
   "outputs": [],
   "source": [
    "product_df['pieces'] = product_df['pieces'].fillna(1).replace(np.nan, 1) # added .replace(np.nan, 1)"
   ]
  },
  {
   "cell_type": "code",
   "execution_count": 59,
   "id": "9f3be80c",
   "metadata": {},
   "outputs": [
    {
     "data": {
      "text/plain": [
       "0"
      ]
     },
     "execution_count": 59,
     "metadata": {},
     "output_type": "execute_result"
    }
   ],
   "source": [
    "product_df['pieces'].isnull().sum()"
   ]
  },
  {
   "cell_type": "code",
   "execution_count": 60,
   "id": "9571b3fa",
   "metadata": {},
   "outputs": [
    {
     "data": {
      "text/plain": [
       "311.0"
      ]
     },
     "execution_count": 60,
     "metadata": {},
     "output_type": "execute_result"
    }
   ],
   "source": [
    "product_df[product_df['weight'].isnull()]['price'].max()"
   ]
  },
  {
   "cell_type": "code",
   "execution_count": 61,
   "id": "626e6127",
   "metadata": {},
   "outputs": [
    {
     "data": {
      "text/plain": [
       "1880.0"
      ]
     },
     "execution_count": 61,
     "metadata": {},
     "output_type": "execute_result"
    }
   ],
   "source": [
    "product_df[product_df['price'].isnull()]['weight'].max()"
   ]
  },
  {
   "cell_type": "code",
   "execution_count": 62,
   "id": "3fdd57a0",
   "metadata": {},
   "outputs": [
    {
     "data": {
      "text/plain": [
       "<AxesSubplot:xlabel='weight', ylabel='price'>"
      ]
     },
     "execution_count": 62,
     "metadata": {},
     "output_type": "execute_result"
    },
    {
     "data": {
      "image/png": "[encoded data removed]",
      "text/plain": [
       "<Figure size 1152x576 with 1 Axes>"
      ]
     },
     "metadata": {
      "needs_background": "light"
     },
     "output_type": "display_data"
    }
   ],
   "source": [
    "df = product_df.dropna()\n",
    "df = df[(df['price'] <= 311) & (df['weight'] <= 1880)] # eval # default 1880\n",
    "plt.figure(figsize=(16,8))\n",
    "sns.scatterplot(x='weight', y='price', data=df)"
   ]
  },
  {
   "cell_type": "code",
   "execution_count": 63,
   "id": "75a50852",
   "metadata": {},
   "outputs": [
    {
     "data": {
      "text/plain": [
       "LinearRegression()"
      ]
     },
     "execution_count": 63,
     "metadata": {},
     "output_type": "execute_result"
    }
   ],
   "source": [
    "# predict missing prices\n",
    "lf = LinearRegression()\n",
    "lf.fit(df['weight'].values.reshape(-1, 1), df['price'])"
   ]
  },
  {
   "cell_type": "code",
   "execution_count": 64,
   "id": "1d642827",
   "metadata": {},
   "outputs": [],
   "source": [
    "prices = lf.predict(product_df[product_df['price'].isnull()]['weight'].replace(np.nan, 1).values.reshape(-1, 1)) # .replace(np.nan, 1)\n",
    "\n",
    "product_df.loc[product_df['price'].isnull(), 'price'] = prices"
   ]
  },
  {
   "cell_type": "code",
   "execution_count": 65,
   "id": "51c22a6c",
   "metadata": {},
   "outputs": [
    {
     "data": {
      "text/plain": [
       "0.0"
      ]
     },
     "execution_count": 65,
     "metadata": {},
     "output_type": "execute_result"
    }
   ],
   "source": [
    "product_df[product_df['price'].isnull()]['weight'].sum() # test code"
   ]
  },
  {
   "cell_type": "code",
   "execution_count": 66,
   "id": "ad62d77a",
   "metadata": {},
   "outputs": [
    {
     "data": {
      "text/plain": [
       "LinearRegression()"
      ]
     },
     "execution_count": 66,
     "metadata": {},
     "output_type": "execute_result"
    }
   ],
   "source": [
    "lf = LinearRegression()\n",
    "lf.fit(df['price'].values.reshape(-1, 1), df['weight'])"
   ]
  },
  {
   "cell_type": "code",
   "execution_count": 67,
   "id": "a8889350",
   "metadata": {},
   "outputs": [],
   "source": [
    "weights = lf.predict(product_df[product_df['weight'].isnull()]['price'].values.reshape(-1, 1))"
   ]
  },
  {
   "cell_type": "code",
   "execution_count": 68,
   "id": "24ef4502",
   "metadata": {},
   "outputs": [
    {
     "data": {
      "text/plain": [
       "((24,), (24,))"
      ]
     },
     "execution_count": 68,
     "metadata": {},
     "output_type": "execute_result"
    }
   ],
   "source": [
    "product_df.loc[product_df['weight'].isnull(), 'weight'].shape, weights.shape"
   ]
  },
  {
   "cell_type": "code",
   "execution_count": 69,
   "id": "c4bc5138",
   "metadata": {},
   "outputs": [],
   "source": [
    "product_df.loc[product_df['weight'].isnull(), 'weight'] = weights"
   ]
  },
  {
   "cell_type": "code",
   "execution_count": 70,
   "id": "ec25a4ac",
   "metadata": {},
   "outputs": [
    {
     "data": {
      "text/plain": [
       "(0,)"
      ]
     },
     "execution_count": 70,
     "metadata": {},
     "output_type": "execute_result"
    }
   ],
   "source": [
    "product_df.loc[product_df['weight'].isnull(), 'weight'].shape # not null"
   ]
  },
  {
   "cell_type": "code",
   "execution_count": 71,
   "id": "3b38f486",
   "metadata": {},
   "outputs": [
    {
     "data": {
      "text/plain": [
       "Producto_ID        0\n",
       "NombreProducto     0\n",
       "popular_name       0\n",
       "property           0\n",
       "unit              24\n",
       "pieces             0\n",
       "in_train           0\n",
       "in_test            0\n",
       "weight             0\n",
       "price              0\n",
       "dtype: int64"
      ]
     },
     "execution_count": 71,
     "metadata": {},
     "output_type": "execute_result"
    }
   ],
   "source": [
    "product_df.isnull().sum()"
   ]
  },
  {
   "cell_type": "code",
   "execution_count": 72,
   "id": "806b8b90",
   "metadata": {},
   "outputs": [
    {
     "data": {
      "text/html": [
       "<div>\n",
       "<style scoped>\n",
       "    .dataframe tbody tr th:only-of-type {\n",
       "        vertical-align: middle;\n",
       "    }\n",
       "\n",
       "    .dataframe tbody tr th {\n",
       "        vertical-align: top;\n",
       "    }\n",
       "\n",
       "    .dataframe thead th {\n",
       "        text-align: right;\n",
       "    }\n",
       "</style>\n",
       "<table border=\"1\" class=\"dataframe\">\n",
       "  <thead>\n",
       "    <tr style=\"text-align: right;\">\n",
       "      <th></th>\n",
       "      <th>Producto_ID</th>\n",
       "      <th>NombreProducto</th>\n",
       "      <th>popular_name</th>\n",
       "      <th>property</th>\n",
       "      <th>unit</th>\n",
       "      <th>pieces</th>\n",
       "      <th>in_train</th>\n",
       "      <th>in_test</th>\n",
       "      <th>weight</th>\n",
       "      <th>price</th>\n",
       "    </tr>\n",
       "  </thead>\n",
       "  <tbody>\n",
       "    <tr>\n",
       "      <th>0</th>\n",
       "      <td>41</td>\n",
       "      <td>Bimbollos Ext sAjonjoli 6p 480g BIM 41</td>\n",
       "      <td>Bimbollos Ext sAjonjoli</td>\n",
       "      <td>BIM</td>\n",
       "      <td>480g</td>\n",
       "      <td>6</td>\n",
       "      <td>1</td>\n",
       "      <td>1</td>\n",
       "      <td>480.0</td>\n",
       "      <td>18.130000</td>\n",
       "    </tr>\n",
       "    <tr>\n",
       "      <th>1</th>\n",
       "      <td>53</td>\n",
       "      <td>Burritos Sincro 170g CU LON 53</td>\n",
       "      <td>Burritos Sincro</td>\n",
       "      <td>CU LON</td>\n",
       "      <td>170g</td>\n",
       "      <td>1</td>\n",
       "      <td>1</td>\n",
       "      <td>1</td>\n",
       "      <td>170.0</td>\n",
       "      <td>14.300000</td>\n",
       "    </tr>\n",
       "    <tr>\n",
       "      <th>2</th>\n",
       "      <td>72</td>\n",
       "      <td>Div Tira Mini Doradita 4p 45g TR 72</td>\n",
       "      <td>Div Tira Mini Doradita</td>\n",
       "      <td>TR</td>\n",
       "      <td>45g</td>\n",
       "      <td>4</td>\n",
       "      <td>1</td>\n",
       "      <td>1</td>\n",
       "      <td>45.0</td>\n",
       "      <td>3.700000</td>\n",
       "    </tr>\n",
       "    <tr>\n",
       "      <th>3</th>\n",
       "      <td>73</td>\n",
       "      <td>Pan Multigrano Linaza 540g BIM 73</td>\n",
       "      <td>Pan Multigrano Linaza</td>\n",
       "      <td>BIM</td>\n",
       "      <td>540g</td>\n",
       "      <td>1</td>\n",
       "      <td>1</td>\n",
       "      <td>1</td>\n",
       "      <td>540.0</td>\n",
       "      <td>21.320000</td>\n",
       "    </tr>\n",
       "    <tr>\n",
       "      <th>4</th>\n",
       "      <td>98</td>\n",
       "      <td>Tostado Integral 180g WON 98</td>\n",
       "      <td>Tostado Integral</td>\n",
       "      <td>WON</td>\n",
       "      <td>180g</td>\n",
       "      <td>1</td>\n",
       "      <td>0</td>\n",
       "      <td>1</td>\n",
       "      <td>180.0</td>\n",
       "      <td>11.298284</td>\n",
       "    </tr>\n",
       "    <tr>\n",
       "      <th>...</th>\n",
       "      <td>...</td>\n",
       "      <td>...</td>\n",
       "      <td>...</td>\n",
       "      <td>...</td>\n",
       "      <td>...</td>\n",
       "      <td>...</td>\n",
       "      <td>...</td>\n",
       "      <td>...</td>\n",
       "      <td>...</td>\n",
       "      <td>...</td>\n",
       "    </tr>\n",
       "    <tr>\n",
       "      <th>1727</th>\n",
       "      <td>49992</td>\n",
       "      <td>Tostado Integral 180g MTA WON 49992</td>\n",
       "      <td>Tostado Integral</td>\n",
       "      <td>MTA WON</td>\n",
       "      <td>180g</td>\n",
       "      <td>1</td>\n",
       "      <td>1</td>\n",
       "      <td>1</td>\n",
       "      <td>180.0</td>\n",
       "      <td>15.390000</td>\n",
       "    </tr>\n",
       "    <tr>\n",
       "      <th>1728</th>\n",
       "      <td>49993</td>\n",
       "      <td>Tostado Integral 180g TAB WON 49993</td>\n",
       "      <td>Tostado Integral</td>\n",
       "      <td>TAB WON</td>\n",
       "      <td>180g</td>\n",
       "      <td>1</td>\n",
       "      <td>1</td>\n",
       "      <td>1</td>\n",
       "      <td>180.0</td>\n",
       "      <td>16.200000</td>\n",
       "    </tr>\n",
       "    <tr>\n",
       "      <th>1729</th>\n",
       "      <td>49994</td>\n",
       "      <td>Tostado Int 0pct Grasa Azuc 200g WON 49994</td>\n",
       "      <td>Tostado Int 0pct Grasa Azuc</td>\n",
       "      <td>WON</td>\n",
       "      <td>200g</td>\n",
       "      <td>1</td>\n",
       "      <td>1</td>\n",
       "      <td>1</td>\n",
       "      <td>200.0</td>\n",
       "      <td>14.760000</td>\n",
       "    </tr>\n",
       "    <tr>\n",
       "      <th>1730</th>\n",
       "      <td>49996</td>\n",
       "      <td>Tostado Int 0pct Grasa Azuc 200g MTA WON 49996</td>\n",
       "      <td>Tostado Int 0pct Grasa Azuc</td>\n",
       "      <td>MTA WON</td>\n",
       "      <td>200g</td>\n",
       "      <td>1</td>\n",
       "      <td>1</td>\n",
       "      <td>1</td>\n",
       "      <td>200.0</td>\n",
       "      <td>14.760000</td>\n",
       "    </tr>\n",
       "    <tr>\n",
       "      <th>1731</th>\n",
       "      <td>49997</td>\n",
       "      <td>Tostado Int 0pct Grasa Azuc 200g TAB WON 49997</td>\n",
       "      <td>Tostado Int 0pct Grasa Azuc</td>\n",
       "      <td>TAB WON</td>\n",
       "      <td>200g</td>\n",
       "      <td>1</td>\n",
       "      <td>1</td>\n",
       "      <td>1</td>\n",
       "      <td>200.0</td>\n",
       "      <td>16.200000</td>\n",
       "    </tr>\n",
       "  </tbody>\n",
       "</table>\n",
       "<p>1732 rows × 10 columns</p>\n",
       "</div>"
      ],
      "text/plain": [
       "      Producto_ID                                  NombreProducto  \\\n",
       "0              41          Bimbollos Ext sAjonjoli 6p 480g BIM 41   \n",
       "1              53                  Burritos Sincro 170g CU LON 53   \n",
       "2              72             Div Tira Mini Doradita 4p 45g TR 72   \n",
       "3              73               Pan Multigrano Linaza 540g BIM 73   \n",
       "4              98                    Tostado Integral 180g WON 98   \n",
       "...           ...                                             ...   \n",
       "1727        49992             Tostado Integral 180g MTA WON 49992   \n",
       "1728        49993             Tostado Integral 180g TAB WON 49993   \n",
       "1729        49994      Tostado Int 0pct Grasa Azuc 200g WON 49994   \n",
       "1730        49996  Tostado Int 0pct Grasa Azuc 200g MTA WON 49996   \n",
       "1731        49997  Tostado Int 0pct Grasa Azuc 200g TAB WON 49997   \n",
       "\n",
       "                     popular_name property   unit pieces  in_train  in_test  \\\n",
       "0         Bimbollos Ext sAjonjoli      BIM   480g      6         1        1   \n",
       "1                 Burritos Sincro   CU LON   170g      1         1        1   \n",
       "2          Div Tira Mini Doradita       TR    45g      4         1        1   \n",
       "3           Pan Multigrano Linaza      BIM   540g      1         1        1   \n",
       "4                Tostado Integral      WON   180g      1         0        1   \n",
       "...                           ...      ...    ...    ...       ...      ...   \n",
       "1727             Tostado Integral  MTA WON   180g      1         1        1   \n",
       "1728             Tostado Integral  TAB WON   180g      1         1        1   \n",
       "1729  Tostado Int 0pct Grasa Azuc      WON   200g      1         1        1   \n",
       "1730  Tostado Int 0pct Grasa Azuc  MTA WON   200g      1         1        1   \n",
       "1731  Tostado Int 0pct Grasa Azuc  TAB WON   200g      1         1        1   \n",
       "\n",
       "      weight      price  \n",
       "0      480.0  18.130000  \n",
       "1      170.0  14.300000  \n",
       "2       45.0   3.700000  \n",
       "3      540.0  21.320000  \n",
       "4      180.0  11.298284  \n",
       "...      ...        ...  \n",
       "1727   180.0  15.390000  \n",
       "1728   180.0  16.200000  \n",
       "1729   200.0  14.760000  \n",
       "1730   200.0  14.760000  \n",
       "1731   200.0  16.200000  \n",
       "\n",
       "[1732 rows x 10 columns]"
      ]
     },
     "execution_count": 72,
     "metadata": {},
     "output_type": "execute_result"
    }
   ],
   "source": [
    "product_df"
   ]
  },
  {
   "cell_type": "code",
   "execution_count": 73,
   "id": "e31e63e4",
   "metadata": {},
   "outputs": [
    {
     "data": {
      "text/html": [
       "<div>\n",
       "<style scoped>\n",
       "    .dataframe tbody tr th:only-of-type {\n",
       "        vertical-align: middle;\n",
       "    }\n",
       "\n",
       "    .dataframe tbody tr th {\n",
       "        vertical-align: top;\n",
       "    }\n",
       "\n",
       "    .dataframe thead th {\n",
       "        text-align: right;\n",
       "    }\n",
       "</style>\n",
       "<table border=\"1\" class=\"dataframe\">\n",
       "  <thead>\n",
       "    <tr style=\"text-align: right;\">\n",
       "      <th></th>\n",
       "      <th>Producto_ID</th>\n",
       "      <th>NombreProducto</th>\n",
       "      <th>popular_name</th>\n",
       "      <th>property</th>\n",
       "      <th>unit</th>\n",
       "      <th>pieces</th>\n",
       "      <th>in_train</th>\n",
       "      <th>in_test</th>\n",
       "      <th>weight</th>\n",
       "      <th>price</th>\n",
       "    </tr>\n",
       "  </thead>\n",
       "  <tbody>\n",
       "  </tbody>\n",
       "</table>\n",
       "</div>"
      ],
      "text/plain": [
       "Empty DataFrame\n",
       "Columns: [Producto_ID, NombreProducto, popular_name, property, unit, pieces, in_train, in_test, weight, price]\n",
       "Index: []"
      ]
     },
     "execution_count": 73,
     "metadata": {},
     "output_type": "execute_result"
    }
   ],
   "source": [
    "product_df[product_df['Producto_ID'].isnull()]"
   ]
  },
  {
   "cell_type": "code",
   "execution_count": 74,
   "id": "da1b70a6",
   "metadata": {},
   "outputs": [
    {
     "data": {
      "text/html": [
       "<div>\n",
       "<style scoped>\n",
       "    .dataframe tbody tr th:only-of-type {\n",
       "        vertical-align: middle;\n",
       "    }\n",
       "\n",
       "    .dataframe tbody tr th {\n",
       "        vertical-align: top;\n",
       "    }\n",
       "\n",
       "    .dataframe thead th {\n",
       "        text-align: right;\n",
       "    }\n",
       "</style>\n",
       "<table border=\"1\" class=\"dataframe\">\n",
       "  <thead>\n",
       "    <tr style=\"text-align: right;\">\n",
       "      <th></th>\n",
       "      <th>Producto_ID</th>\n",
       "      <th>NombreProducto</th>\n",
       "      <th>popular_name</th>\n",
       "      <th>property</th>\n",
       "      <th>unit</th>\n",
       "      <th>pieces</th>\n",
       "      <th>in_train</th>\n",
       "      <th>in_test</th>\n",
       "      <th>weight</th>\n",
       "      <th>price</th>\n",
       "    </tr>\n",
       "  </thead>\n",
       "  <tbody>\n",
       "  </tbody>\n",
       "</table>\n",
       "</div>"
      ],
      "text/plain": [
       "Empty DataFrame\n",
       "Columns: [Producto_ID, NombreProducto, popular_name, property, unit, pieces, in_train, in_test, weight, price]\n",
       "Index: []"
      ]
     },
     "execution_count": 74,
     "metadata": {},
     "output_type": "execute_result"
    }
   ],
   "source": [
    "product_df[product_df['NombreProducto'].isnull()]"
   ]
  },
  {
   "cell_type": "code",
   "execution_count": 75,
   "id": "c83f90b9",
   "metadata": {},
   "outputs": [
    {
     "data": {
      "text/html": [
       "<div>\n",
       "<style scoped>\n",
       "    .dataframe tbody tr th:only-of-type {\n",
       "        vertical-align: middle;\n",
       "    }\n",
       "\n",
       "    .dataframe tbody tr th {\n",
       "        vertical-align: top;\n",
       "    }\n",
       "\n",
       "    .dataframe thead th {\n",
       "        text-align: right;\n",
       "    }\n",
       "</style>\n",
       "<table border=\"1\" class=\"dataframe\">\n",
       "  <thead>\n",
       "    <tr style=\"text-align: right;\">\n",
       "      <th></th>\n",
       "      <th>Producto_ID</th>\n",
       "      <th>NombreProducto</th>\n",
       "      <th>popular_name</th>\n",
       "      <th>property</th>\n",
       "      <th>unit</th>\n",
       "      <th>pieces</th>\n",
       "      <th>in_train</th>\n",
       "      <th>in_test</th>\n",
       "      <th>weight</th>\n",
       "      <th>price</th>\n",
       "    </tr>\n",
       "  </thead>\n",
       "  <tbody>\n",
       "  </tbody>\n",
       "</table>\n",
       "</div>"
      ],
      "text/plain": [
       "Empty DataFrame\n",
       "Columns: [Producto_ID, NombreProducto, popular_name, property, unit, pieces, in_train, in_test, weight, price]\n",
       "Index: []"
      ]
     },
     "execution_count": 75,
     "metadata": {},
     "output_type": "execute_result"
    }
   ],
   "source": [
    "product_df[product_df['property'].isnull()]"
   ]
  },
  {
   "cell_type": "code",
   "execution_count": 76,
   "id": "41cd504e",
   "metadata": {},
   "outputs": [],
   "source": [
    "# 上記で全てのnullが処理されている事が確認できる。"
   ]
  },
  {
   "cell_type": "markdown",
   "id": "62d44c84",
   "metadata": {},
   "source": [
    "- 以下のdelを使用する為に、現在notebookで使用しているメモリを調べる構文を記述、処理を全てClass化するのであればメモリ使用量によってコードの挙動を変更するなどを行う。\n",
    "- Pre-Process最終ラインで再度変数のメモリの確認を行っている。"
   ]
  },
  {
   "cell_type": "code",
   "execution_count": 77,
   "id": "823c19bf",
   "metadata": {},
   "outputs": [
    {
     "name": "stdout",
     "output_type": "stream",
     "text": [
      "|            Variable Name|    Memory|\n",
      " ------------------------------------ \n",
      "|         CategoricalDtype|      1064|\n",
      "|                  Counter|      1064|\n",
      "|                       In|       776|\n",
      "|         LinearRegression|      1472|\n",
      "|                      Out|      1176|\n",
      "|                 boxcox1p|       232|\n",
      "|                client_df|  78952737|\n",
      "|                     dask|        72|\n",
      "|                      ddf|        72|\n",
      "|                       df|    634532|\n",
      "|                    dtype|       640|\n",
      "|                     exit|        48|\n",
      "|                    expon|        48|\n",
      "|              get_ipython|        64|\n",
      "|                       lf|        48|\n",
      "|                       nl|       136|\n",
      "|                     norm|        48|\n",
      "|                       np|        72|\n",
      "|                       pd|        72|\n",
      "|                      plt|        72|\n",
      "|                   prices|       376|\n",
      "|                prices_df|     28928|\n",
      "|               product_df|    665121|\n",
      "|         product_price_df|1780331280|\n",
      "|                     quit|        48|\n",
      "|                  randint|        48|\n",
      "|               reciprocal|        48|\n",
      "|         return_prices_df|  61067080|\n",
      "|           sale_prices_df|1773069736|\n",
      "|           scatter_matrix|       136|\n",
      "|                     skew|       136|\n",
      "|                      sns|        72|\n",
      "|                    stats|        72|\n",
      "|                      sys|        72|\n",
      "|                 test_ddf|        48|\n",
      "|                  test_df| 125986662|\n",
      "|            town_state_df|    177469|\n",
      "|                train_ddf|        48|\n",
      "|                 train_df| 600000144|\n",
      "|                        w|    282718|\n",
      "|                  weights|       296|\n",
      "|                      xgb|        72|\n"
     ]
    }
   ],
   "source": [
    "\"\"\" import はLine1に加える\n",
    "print(\"{}{: >25}{}{: >10}{}\".format('|','Variable Name','|','Memory','|'))\n",
    "print(\" ------------------------------------ \")\n",
    "for var_name in dir():\n",
    "    if not var_name.startswith(\"_\") and sys.getsizeof(eval(var_name)) > 10000: # これ以上のメモリ量の変数を取得する。\n",
    "        print(\"{}{: >25}{}{: >10}{}\".format('|',var_name,'|',sys.getsizeof(eval(var_name)),'|'))\n",
    "\"\"\"\n",
    "import sys\n",
    "print(\"{}{: >25}{}{: >10}{}\".format('|','Variable Name','|','Memory','|'))\n",
    "print(\" ------------------------------------ \")\n",
    "for var_name in dir():\n",
    "    if not var_name.startswith(\"_\"):\n",
    "        print(\"{}{: >25}{}{: >10}{}\".format('|',var_name,'|',sys.getsizeof(eval(var_name)),'|'))"
   ]
  },
  {
   "cell_type": "code",
   "execution_count": 78,
   "id": "50e4bfe8",
   "metadata": {},
   "outputs": [],
   "source": [
    "# 必要のない変数は削除する。\n",
    "del df\n",
    "del prices\n",
    "del weights"
   ]
  },
  {
   "cell_type": "code",
   "execution_count": 79,
   "id": "c502d601",
   "metadata": {},
   "outputs": [
    {
     "data": {
      "text/plain": [
       "True"
      ]
     },
     "execution_count": 79,
     "metadata": {},
     "output_type": "execute_result"
    }
   ],
   "source": [
    "\n",
    "(product_df.drop(['unit'], axis=1).isnull().sum() == 0).all() # True is correct."
   ]
  },
  {
   "cell_type": "code",
   "execution_count": 80,
   "id": "bc389bb9",
   "metadata": {},
   "outputs": [],
   "source": [
    "df = product_df.dropna()"
   ]
  },
  {
   "cell_type": "code",
   "execution_count": 81,
   "id": "22b1d879",
   "metadata": {},
   "outputs": [
    {
     "data": {
      "text/plain": [
       "((1708,), (1708,))"
      ]
     },
     "execution_count": 81,
     "metadata": {},
     "output_type": "execute_result"
    }
   ],
   "source": [
    "(df['weight'] <= 1880).shape, (df['price'] <= 100).shape"
   ]
  },
  {
   "cell_type": "code",
   "execution_count": 82,
   "id": "0001207f",
   "metadata": {},
   "outputs": [
    {
     "data": {
      "text/plain": [
       "(1708, 10)"
      ]
     },
     "execution_count": 82,
     "metadata": {},
     "output_type": "execute_result"
    }
   ],
   "source": [
    "df.shape"
   ]
  },
  {
   "cell_type": "code",
   "execution_count": 83,
   "id": "521a90f2",
   "metadata": {},
   "outputs": [],
   "source": [
    "df = df[(df['price'] <= 100) & (df['weight'] <= 1880)]"
   ]
  },
  {
   "cell_type": "code",
   "execution_count": 84,
   "id": "fb9c9a10",
   "metadata": {},
   "outputs": [
    {
     "data": {
      "text/plain": [
       "(1682, 10)"
      ]
     },
     "execution_count": 84,
     "metadata": {},
     "output_type": "execute_result"
    }
   ],
   "source": [
    "df.shape"
   ]
  },
  {
   "cell_type": "code",
   "execution_count": 85,
   "id": "56637e56",
   "metadata": {},
   "outputs": [
    {
     "name": "stdout",
     "output_type": "stream",
     "text": [
      "<class 'pandas.core.frame.DataFrame'>\n",
      "Int64Index: 1732 entries, 0 to 1731\n",
      "Data columns (total 10 columns):\n",
      " #   Column          Non-Null Count  Dtype  \n",
      "---  ------          --------------  -----  \n",
      " 0   Producto_ID     1732 non-null   int64  \n",
      " 1   NombreProducto  1732 non-null   object \n",
      " 2   popular_name    1732 non-null   object \n",
      " 3   property        1732 non-null   object \n",
      " 4   unit            1708 non-null   object \n",
      " 5   pieces          1732 non-null   object \n",
      " 6   in_train        1732 non-null   int64  \n",
      " 7   in_test         1732 non-null   int64  \n",
      " 8   weight          1732 non-null   float64\n",
      " 9   price           1732 non-null   float64\n",
      "dtypes: float64(2), int64(3), object(5)\n",
      "memory usage: 148.8+ KB\n"
     ]
    }
   ],
   "source": [
    "product_df.info()"
   ]
  },
  {
   "cell_type": "code",
   "execution_count": 86,
   "id": "1c9b41c4",
   "metadata": {},
   "outputs": [],
   "source": [
    "product_df['pieces'] = product_df['pieces'].astype('int16')\n",
    "product_df['in_train'] = product_df['in_train'].astype('bool')\n",
    "product_df['in_test'] = product_df['in_test'].astype('bool')\n",
    "product_df['weight'] = product_df['weight'].astype('float32')\n",
    "product_df['price'] = product_df['price'].astype('float32')"
   ]
  },
  {
   "cell_type": "code",
   "execution_count": 87,
   "id": "e47f623b",
   "metadata": {},
   "outputs": [
    {
     "name": "stdout",
     "output_type": "stream",
     "text": [
      "<class 'pandas.core.frame.DataFrame'>\n",
      "Int64Index: 1732 entries, 0 to 1731\n",
      "Data columns (total 10 columns):\n",
      " #   Column          Non-Null Count  Dtype  \n",
      "---  ------          --------------  -----  \n",
      " 0   Producto_ID     1732 non-null   int64  \n",
      " 1   NombreProducto  1732 non-null   object \n",
      " 2   popular_name    1732 non-null   object \n",
      " 3   property        1732 non-null   object \n",
      " 4   unit            1708 non-null   object \n",
      " 5   pieces          1732 non-null   int16  \n",
      " 6   in_train        1732 non-null   bool   \n",
      " 7   in_test         1732 non-null   bool   \n",
      " 8   weight          1732 non-null   float32\n",
      " 9   price           1732 non-null   float32\n",
      "dtypes: bool(2), float32(2), int16(1), int64(1), object(4)\n",
      "memory usage: 101.5+ KB\n"
     ]
    }
   ],
   "source": [
    "product_df.info()"
   ]
  },
  {
   "cell_type": "code",
   "execution_count": 88,
   "id": "969abd11",
   "metadata": {},
   "outputs": [
    {
     "data": {
      "text/plain": [
       "dtype('O')"
      ]
     },
     "execution_count": 88,
     "metadata": {},
     "output_type": "execute_result"
    }
   ],
   "source": [
    "town_state_df['State'].dtype"
   ]
  },
  {
   "cell_type": "code",
   "execution_count": 89,
   "id": "e39de1db",
   "metadata": {},
   "outputs": [],
   "source": [
    "town_state_df['State'] = town_state_df['State'].astype('category')"
   ]
  },
  {
   "cell_type": "code",
   "execution_count": 90,
   "id": "24022e2b",
   "metadata": {},
   "outputs": [
    {
     "data": {
      "text/plain": [
       "CategoricalDtype(categories=['AGUASCALIENTES', 'BAJA CALIFORNIA NORTE',\n",
       "                  'BAJA CALIFORNIA SUR', 'CAMPECHE', 'CHIAPAS', 'CHIHUAHUA',\n",
       "                  'COAHUILA', 'COLIMA', 'DURANGO', 'ESTADO DE MÉXICO',\n",
       "                  'GUANAJUATO', 'GUERRERO', 'HIDALGO', 'JALISCO', 'MICHOACÁN',\n",
       "                  'MORELOS', 'MÉXICO, D.F.', 'NAYARIT', 'NUEVO LEÓN', 'OAXACA',\n",
       "                  'PUEBLA', 'QUERETARO', 'QUERETARO DE ARTEAGA',\n",
       "                  'QUINTANA ROO', 'SAN LUIS POTOSÍ', 'SINALOA', 'SONORA',\n",
       "                  'TABASCO', 'TAMAULIPAS', 'TLAXCALA', 'VERACRUZ', 'YUCATÁN',\n",
       "                  'ZACATECAS'],\n",
       ", ordered=False)"
      ]
     },
     "execution_count": 90,
     "metadata": {},
     "output_type": "execute_result"
    }
   ],
   "source": [
    "town_state_df['State'].dtype"
   ]
  },
  {
   "cell_type": "code",
   "execution_count": 91,
   "id": "12fc6e16",
   "metadata": {},
   "outputs": [
    {
     "data": {
      "text/plain": [
       "(dtype('int64'), dtype('int8'), dtype('int64'))"
      ]
     },
     "execution_count": 91,
     "metadata": {},
     "output_type": "execute_result"
    }
   ],
   "source": [
    "train_ddf['Canal_ID'].dtype, test_df['Canal_ID'].dtype, test_ddf['Canal_ID'].dtype"
   ]
  },
  {
   "cell_type": "code",
   "execution_count": 92,
   "id": "bb187ced",
   "metadata": {},
   "outputs": [],
   "source": [
    "train_ddf['Canal_ID'] = train_ddf['Canal_ID'].astype('category')\n",
    "test_ddf['Canal_ID'] = test_ddf['Canal_ID'].astype('category')"
   ]
  },
  {
   "cell_type": "code",
   "execution_count": 93,
   "id": "acf6d9e6",
   "metadata": {},
   "outputs": [],
   "source": [
    "#train_df.drop(['Venta_uni_hoy', 'Venta_hoy', 'Dev_uni_proxima', 'Dev_proxima'], axis=1, inplace=True)\n",
    "train_ddf = train_ddf.drop(['Venta_uni_hoy', 'Venta_hoy', 'Dev_uni_proxima', 'Dev_proxima'], axis=1)"
   ]
  },
  {
   "cell_type": "markdown",
   "id": "f3dd00c0",
   "metadata": {},
   "source": [
    "# Merge"
   ]
  },
  {
   "cell_type": "code",
   "execution_count": 94,
   "id": "5d6533a6",
   "metadata": {},
   "outputs": [],
   "source": [
    "train_df = train_ddf.merge(town_state_df[['Agencia_ID', 'Town_ID']], how='left')"
   ]
  },
  {
   "cell_type": "code",
   "execution_count": 95,
   "id": "15ab358a",
   "metadata": {},
   "outputs": [],
   "source": [
    "test_df = test_ddf.merge(town_state_df[['Agencia_ID', 'Town_ID']], how='left')"
   ]
  },
  {
   "cell_type": "code",
   "execution_count": 96,
   "id": "674d55d0",
   "metadata": {},
   "outputs": [],
   "source": [
    "train_df = train_df.drop('Agencia_ID', axis=1)"
   ]
  },
  {
   "cell_type": "code",
   "execution_count": 97,
   "id": "6c3e2669",
   "metadata": {},
   "outputs": [],
   "source": [
    "test_df = test_df.drop('Agencia_ID', axis=1)"
   ]
  },
  {
   "cell_type": "code",
   "execution_count": 98,
   "id": "dafabd56",
   "metadata": {},
   "outputs": [],
   "source": [
    "#train_df = pd.merge(train_ddf, town_state_df[['Agencia_ID', 'Town_ID']], how='left')\n",
    "#test_df = pd.merge(test_ddf, town_state_df[['Agencia_ID', 'Town_ID']], how='left')\n",
    "#train_ddf.drop('Agencia_ID', axis=1, inplace=True)\n",
    "#train_df.drop('Agencia_ID', axis=1, inplace=True)\n",
    "#test_df.drop('Agencia_ID', axis=1, inplace=True)"
   ]
  },
  {
   "cell_type": "code",
   "execution_count": 99,
   "id": "4a03934a",
   "metadata": {},
   "outputs": [],
   "source": [
    "train_df = train_df.merge(product_df[[\n",
    "        'Producto_ID', 'popular_name', 'property',\n",
    "        'pieces', 'weight', 'price'\n",
    "    ]], how='left')\n",
    "\n",
    "test_df = test_df.merge(product_df[[\n",
    "        'Producto_ID', 'popular_name', 'property',\n",
    "        'pieces', 'weight', 'price'\n",
    "    ]], how='left')"
   ]
  },
  {
   "cell_type": "code",
   "execution_count": 100,
   "id": "b5d6c300",
   "metadata": {},
   "outputs": [
    {
     "data": {
      "text/html": [
       "<div><strong>Dask DataFrame Structure:</strong></div>\n",
       "<div>\n",
       "<style scoped>\n",
       "    .dataframe tbody tr th:only-of-type {\n",
       "        vertical-align: middle;\n",
       "    }\n",
       "\n",
       "    .dataframe tbody tr th {\n",
       "        vertical-align: top;\n",
       "    }\n",
       "\n",
       "    .dataframe thead th {\n",
       "        text-align: right;\n",
       "    }\n",
       "</style>\n",
       "<table border=\"1\" class=\"dataframe\">\n",
       "  <thead>\n",
       "    <tr style=\"text-align: right;\">\n",
       "      <th></th>\n",
       "      <th>Semana</th>\n",
       "      <th>Canal_ID</th>\n",
       "      <th>Ruta_SAK</th>\n",
       "      <th>Cliente_ID</th>\n",
       "      <th>Producto_ID</th>\n",
       "      <th>Demanda_uni_equil</th>\n",
       "      <th>Town_ID</th>\n",
       "      <th>popular_name</th>\n",
       "      <th>property</th>\n",
       "      <th>pieces</th>\n",
       "      <th>weight</th>\n",
       "      <th>price</th>\n",
       "    </tr>\n",
       "    <tr>\n",
       "      <th>npartitions=128</th>\n",
       "      <th></th>\n",
       "      <th></th>\n",
       "      <th></th>\n",
       "      <th></th>\n",
       "      <th></th>\n",
       "      <th></th>\n",
       "      <th></th>\n",
       "      <th></th>\n",
       "      <th></th>\n",
       "      <th></th>\n",
       "      <th></th>\n",
       "      <th></th>\n",
       "    </tr>\n",
       "  </thead>\n",
       "  <tbody>\n",
       "    <tr>\n",
       "      <th></th>\n",
       "      <td>int64</td>\n",
       "      <td>category[unknown]</td>\n",
       "      <td>int64</td>\n",
       "      <td>int64</td>\n",
       "      <td>int64</td>\n",
       "      <td>int64</td>\n",
       "      <td>int16</td>\n",
       "      <td>object</td>\n",
       "      <td>object</td>\n",
       "      <td>int16</td>\n",
       "      <td>float32</td>\n",
       "      <td>float32</td>\n",
       "    </tr>\n",
       "    <tr>\n",
       "      <th></th>\n",
       "      <td>...</td>\n",
       "      <td>...</td>\n",
       "      <td>...</td>\n",
       "      <td>...</td>\n",
       "      <td>...</td>\n",
       "      <td>...</td>\n",
       "      <td>...</td>\n",
       "      <td>...</td>\n",
       "      <td>...</td>\n",
       "      <td>...</td>\n",
       "      <td>...</td>\n",
       "      <td>...</td>\n",
       "    </tr>\n",
       "    <tr>\n",
       "      <th>...</th>\n",
       "      <td>...</td>\n",
       "      <td>...</td>\n",
       "      <td>...</td>\n",
       "      <td>...</td>\n",
       "      <td>...</td>\n",
       "      <td>...</td>\n",
       "      <td>...</td>\n",
       "      <td>...</td>\n",
       "      <td>...</td>\n",
       "      <td>...</td>\n",
       "      <td>...</td>\n",
       "      <td>...</td>\n",
       "    </tr>\n",
       "    <tr>\n",
       "      <th></th>\n",
       "      <td>...</td>\n",
       "      <td>...</td>\n",
       "      <td>...</td>\n",
       "      <td>...</td>\n",
       "      <td>...</td>\n",
       "      <td>...</td>\n",
       "      <td>...</td>\n",
       "      <td>...</td>\n",
       "      <td>...</td>\n",
       "      <td>...</td>\n",
       "      <td>...</td>\n",
       "      <td>...</td>\n",
       "    </tr>\n",
       "    <tr>\n",
       "      <th></th>\n",
       "      <td>...</td>\n",
       "      <td>...</td>\n",
       "      <td>...</td>\n",
       "      <td>...</td>\n",
       "      <td>...</td>\n",
       "      <td>...</td>\n",
       "      <td>...</td>\n",
       "      <td>...</td>\n",
       "      <td>...</td>\n",
       "      <td>...</td>\n",
       "      <td>...</td>\n",
       "      <td>...</td>\n",
       "    </tr>\n",
       "  </tbody>\n",
       "</table>\n",
       "</div>\n",
       "<div>Dask Name: merge, 1026 tasks</div>"
      ],
      "text/plain": [
       "Dask DataFrame Structure:\n",
       "                Semana           Canal_ID Ruta_SAK Cliente_ID Producto_ID Demanda_uni_equil Town_ID popular_name property pieces   weight    price\n",
       "npartitions=128                                                                                                                                   \n",
       "                 int64  category[unknown]    int64      int64       int64             int64   int16       object   object  int16  float32  float32\n",
       "                   ...                ...      ...        ...         ...               ...     ...          ...      ...    ...      ...      ...\n",
       "...                ...                ...      ...        ...         ...               ...     ...          ...      ...    ...      ...      ...\n",
       "                   ...                ...      ...        ...         ...               ...     ...          ...      ...    ...      ...      ...\n",
       "                   ...                ...      ...        ...         ...               ...     ...          ...      ...    ...      ...      ...\n",
       "Dask Name: merge, 1026 tasks"
      ]
     },
     "execution_count": 100,
     "metadata": {},
     "output_type": "execute_result"
    }
   ],
   "source": [
    "train_df # Demanda_uni_equil"
   ]
  },
  {
   "cell_type": "code",
   "execution_count": 101,
   "id": "f0bdc5a6",
   "metadata": {},
   "outputs": [
    {
     "data": {
      "text/html": [
       "<div><strong>Dask DataFrame Structure:</strong></div>\n",
       "<div>\n",
       "<style scoped>\n",
       "    .dataframe tbody tr th:only-of-type {\n",
       "        vertical-align: middle;\n",
       "    }\n",
       "\n",
       "    .dataframe tbody tr th {\n",
       "        vertical-align: top;\n",
       "    }\n",
       "\n",
       "    .dataframe thead th {\n",
       "        text-align: right;\n",
       "    }\n",
       "</style>\n",
       "<table border=\"1\" class=\"dataframe\">\n",
       "  <thead>\n",
       "    <tr style=\"text-align: right;\">\n",
       "      <th></th>\n",
       "      <th>id</th>\n",
       "      <th>Semana</th>\n",
       "      <th>Canal_ID</th>\n",
       "      <th>Ruta_SAK</th>\n",
       "      <th>Cliente_ID</th>\n",
       "      <th>Producto_ID</th>\n",
       "      <th>Town_ID</th>\n",
       "      <th>popular_name</th>\n",
       "      <th>property</th>\n",
       "      <th>pieces</th>\n",
       "      <th>weight</th>\n",
       "      <th>price</th>\n",
       "    </tr>\n",
       "    <tr>\n",
       "      <th>npartitions=11</th>\n",
       "      <th></th>\n",
       "      <th></th>\n",
       "      <th></th>\n",
       "      <th></th>\n",
       "      <th></th>\n",
       "      <th></th>\n",
       "      <th></th>\n",
       "      <th></th>\n",
       "      <th></th>\n",
       "      <th></th>\n",
       "      <th></th>\n",
       "      <th></th>\n",
       "    </tr>\n",
       "  </thead>\n",
       "  <tbody>\n",
       "    <tr>\n",
       "      <th></th>\n",
       "      <td>int64</td>\n",
       "      <td>int64</td>\n",
       "      <td>category[unknown]</td>\n",
       "      <td>int64</td>\n",
       "      <td>int64</td>\n",
       "      <td>int64</td>\n",
       "      <td>int16</td>\n",
       "      <td>object</td>\n",
       "      <td>object</td>\n",
       "      <td>int16</td>\n",
       "      <td>float32</td>\n",
       "      <td>float32</td>\n",
       "    </tr>\n",
       "    <tr>\n",
       "      <th></th>\n",
       "      <td>...</td>\n",
       "      <td>...</td>\n",
       "      <td>...</td>\n",
       "      <td>...</td>\n",
       "      <td>...</td>\n",
       "      <td>...</td>\n",
       "      <td>...</td>\n",
       "      <td>...</td>\n",
       "      <td>...</td>\n",
       "      <td>...</td>\n",
       "      <td>...</td>\n",
       "      <td>...</td>\n",
       "    </tr>\n",
       "    <tr>\n",
       "      <th>...</th>\n",
       "      <td>...</td>\n",
       "      <td>...</td>\n",
       "      <td>...</td>\n",
       "      <td>...</td>\n",
       "      <td>...</td>\n",
       "      <td>...</td>\n",
       "      <td>...</td>\n",
       "      <td>...</td>\n",
       "      <td>...</td>\n",
       "      <td>...</td>\n",
       "      <td>...</td>\n",
       "      <td>...</td>\n",
       "    </tr>\n",
       "    <tr>\n",
       "      <th></th>\n",
       "      <td>...</td>\n",
       "      <td>...</td>\n",
       "      <td>...</td>\n",
       "      <td>...</td>\n",
       "      <td>...</td>\n",
       "      <td>...</td>\n",
       "      <td>...</td>\n",
       "      <td>...</td>\n",
       "      <td>...</td>\n",
       "      <td>...</td>\n",
       "      <td>...</td>\n",
       "      <td>...</td>\n",
       "    </tr>\n",
       "    <tr>\n",
       "      <th></th>\n",
       "      <td>...</td>\n",
       "      <td>...</td>\n",
       "      <td>...</td>\n",
       "      <td>...</td>\n",
       "      <td>...</td>\n",
       "      <td>...</td>\n",
       "      <td>...</td>\n",
       "      <td>...</td>\n",
       "      <td>...</td>\n",
       "      <td>...</td>\n",
       "      <td>...</td>\n",
       "      <td>...</td>\n",
       "    </tr>\n",
       "  </tbody>\n",
       "</table>\n",
       "</div>\n",
       "<div>Dask Name: merge, 79 tasks</div>"
      ],
      "text/plain": [
       "Dask DataFrame Structure:\n",
       "                   id Semana           Canal_ID Ruta_SAK Cliente_ID Producto_ID Town_ID popular_name property pieces   weight    price\n",
       "npartitions=11                                                                                                                        \n",
       "                int64  int64  category[unknown]    int64      int64       int64   int16       object   object  int16  float32  float32\n",
       "                  ...    ...                ...      ...        ...         ...     ...          ...      ...    ...      ...      ...\n",
       "...               ...    ...                ...      ...        ...         ...     ...          ...      ...    ...      ...      ...\n",
       "                  ...    ...                ...      ...        ...         ...     ...          ...      ...    ...      ...      ...\n",
       "                  ...    ...                ...      ...        ...         ...     ...          ...      ...    ...      ...      ...\n",
       "Dask Name: merge, 79 tasks"
      ]
     },
     "execution_count": 101,
     "metadata": {},
     "output_type": "execute_result"
    }
   ],
   "source": [
    "test_df"
   ]
  },
  {
   "cell_type": "code",
   "execution_count": 102,
   "id": "4eb237d0",
   "metadata": {},
   "outputs": [],
   "source": [
    "#train_df = pd.merge(\n",
    "#    train_df,\n",
    "#    product_df[[\n",
    "#        'Producto_ID', 'popular_name', 'property',\n",
    "#        'pieces', 'weight', 'price'\n",
    "#    ]], how='left')\n",
    "#test_df = pd.merge(\n",
    "#    test_df,\n",
    "#    product_df[[\n",
    "#        'Producto_ID', 'popular_name', 'property',\n",
    "#        'pieces', 'weight', 'price'\n",
    "#    ]], how='left')"
   ]
  },
  {
   "cell_type": "code",
   "execution_count": 103,
   "id": "65d4de6a",
   "metadata": {},
   "outputs": [
    {
     "data": {
      "text/plain": [
       "(dtype('int64'), dtype('int64'))"
      ]
     },
     "execution_count": 103,
     "metadata": {},
     "output_type": "execute_result"
    }
   ],
   "source": [
    "train_df['Semana'].dtype, train_df['Demanda_uni_equil'].dtype"
   ]
  },
  {
   "cell_type": "code",
   "execution_count": 104,
   "id": "e5bf67f0",
   "metadata": {},
   "outputs": [],
   "source": [
    "semana_med_s = train_df.groupby('Semana')['Demanda_uni_equil'].apply(pd.Series.median, meta={'semana_med_s': 'int64'}) # .median() metaはint64で多分大丈夫のはず"
   ]
  },
  {
   "cell_type": "code",
   "execution_count": 105,
   "id": "1b23aab7",
   "metadata": {},
   "outputs": [
    {
     "data": {
      "text/html": [
       "<div><strong>Dask DataFrame Structure:</strong></div>\n",
       "<div>\n",
       "<style scoped>\n",
       "    .dataframe tbody tr th:only-of-type {\n",
       "        vertical-align: middle;\n",
       "    }\n",
       "\n",
       "    .dataframe tbody tr th {\n",
       "        vertical-align: top;\n",
       "    }\n",
       "\n",
       "    .dataframe thead th {\n",
       "        text-align: right;\n",
       "    }\n",
       "</style>\n",
       "<table border=\"1\" class=\"dataframe\">\n",
       "  <thead>\n",
       "    <tr style=\"text-align: right;\">\n",
       "      <th></th>\n",
       "      <th>semana_med_s</th>\n",
       "    </tr>\n",
       "    <tr>\n",
       "      <th>npartitions=128</th>\n",
       "      <th></th>\n",
       "    </tr>\n",
       "  </thead>\n",
       "  <tbody>\n",
       "    <tr>\n",
       "      <th></th>\n",
       "      <td>int64</td>\n",
       "    </tr>\n",
       "    <tr>\n",
       "      <th></th>\n",
       "      <td>...</td>\n",
       "    </tr>\n",
       "    <tr>\n",
       "      <th>...</th>\n",
       "      <td>...</td>\n",
       "    </tr>\n",
       "    <tr>\n",
       "      <th></th>\n",
       "      <td>...</td>\n",
       "    </tr>\n",
       "    <tr>\n",
       "      <th></th>\n",
       "      <td>...</td>\n",
       "    </tr>\n",
       "  </tbody>\n",
       "</table>\n",
       "</div>\n",
       "<div>Dask Name: median, 1924 tasks</div>"
      ],
      "text/plain": [
       "Dask DataFrame Structure:\n",
       "                semana_med_s\n",
       "npartitions=128             \n",
       "                       int64\n",
       "                         ...\n",
       "...                      ...\n",
       "                         ...\n",
       "                         ...\n",
       "Dask Name: median, 1924 tasks"
      ]
     },
     "execution_count": 105,
     "metadata": {},
     "output_type": "execute_result"
    }
   ],
   "source": [
    "semana_med_s"
   ]
  },
  {
   "cell_type": "markdown",
   "id": "4e63ecde",
   "metadata": {},
   "source": [
    "# Dask.DataFrame - drop(inplace=True)について\n",
    "- Dask.DataFrameのdropはinplaceに対応していない"
   ]
  },
  {
   "cell_type": "code",
   "execution_count": 106,
   "id": "890eeb48",
   "metadata": {},
   "outputs": [],
   "source": [
    "train_df = train_df.drop('Semana', axis=1)\n",
    "test_df = test_df.drop('Semana', axis=1)"
   ]
  },
  {
   "cell_type": "code",
   "execution_count": 107,
   "id": "4f5dbe62",
   "metadata": {},
   "outputs": [],
   "source": [
    "#train_df.drop('Semana', axis=1, inplace=True)\n",
    "#test_df.drop('Semana', axis=1, inplace=True)\n",
    "del semana_med_s"
   ]
  },
  {
   "cell_type": "markdown",
   "id": "39b36b41",
   "metadata": {},
   "source": [
    "#### Client_ID"
   ]
  },
  {
   "cell_type": "code",
   "execution_count": 108,
   "id": "ee8cb3f4",
   "metadata": {},
   "outputs": [],
   "source": [
    "client_med_s = train_df.groupby('Cliente_ID')['Demanda_uni_equil'].apply(pd.Series.median, meta={'client_med': 'int16'}) #.astype('int16')\n",
    "client_med_s.name = 'client_med'"
   ]
  },
  {
   "cell_type": "markdown",
   "id": "83720ec3",
   "metadata": {},
   "source": [
    "#### Popular_name"
   ]
  },
  {
   "cell_type": "code",
   "execution_count": 109,
   "id": "5e133df7",
   "metadata": {},
   "outputs": [],
   "source": [
    "popular_name_med_s = train_df.groupby('popular_name')['Demanda_uni_equil'].apply(pd.Series.median, meta={'popular_name_med': 'int16'}) #.astype('int16')\n",
    "popular_name_med_s.name = 'popular_name_med'"
   ]
  },
  {
   "cell_type": "markdown",
   "id": "fec2d6bb",
   "metadata": {},
   "source": [
    "#### Town_ID"
   ]
  },
  {
   "cell_type": "code",
   "execution_count": 110,
   "id": "98737867",
   "metadata": {},
   "outputs": [
    {
     "data": {
      "text/html": [
       "<div><strong>Dask DataFrame Structure:</strong></div>\n",
       "<div>\n",
       "<style scoped>\n",
       "    .dataframe tbody tr th:only-of-type {\n",
       "        vertical-align: middle;\n",
       "    }\n",
       "\n",
       "    .dataframe tbody tr th {\n",
       "        vertical-align: top;\n",
       "    }\n",
       "\n",
       "    .dataframe thead th {\n",
       "        text-align: right;\n",
       "    }\n",
       "</style>\n",
       "<table border=\"1\" class=\"dataframe\">\n",
       "  <thead>\n",
       "    <tr style=\"text-align: right;\">\n",
       "      <th></th>\n",
       "      <th>Canal_ID</th>\n",
       "      <th>Ruta_SAK</th>\n",
       "      <th>Cliente_ID</th>\n",
       "      <th>Producto_ID</th>\n",
       "      <th>Demanda_uni_equil</th>\n",
       "      <th>Town_ID</th>\n",
       "      <th>popular_name</th>\n",
       "      <th>property</th>\n",
       "      <th>pieces</th>\n",
       "      <th>weight</th>\n",
       "      <th>price</th>\n",
       "    </tr>\n",
       "    <tr>\n",
       "      <th>npartitions=128</th>\n",
       "      <th></th>\n",
       "      <th></th>\n",
       "      <th></th>\n",
       "      <th></th>\n",
       "      <th></th>\n",
       "      <th></th>\n",
       "      <th></th>\n",
       "      <th></th>\n",
       "      <th></th>\n",
       "      <th></th>\n",
       "      <th></th>\n",
       "    </tr>\n",
       "  </thead>\n",
       "  <tbody>\n",
       "    <tr>\n",
       "      <th></th>\n",
       "      <td>category[unknown]</td>\n",
       "      <td>int64</td>\n",
       "      <td>int64</td>\n",
       "      <td>int64</td>\n",
       "      <td>int64</td>\n",
       "      <td>int16</td>\n",
       "      <td>object</td>\n",
       "      <td>object</td>\n",
       "      <td>int16</td>\n",
       "      <td>float32</td>\n",
       "      <td>float32</td>\n",
       "    </tr>\n",
       "    <tr>\n",
       "      <th></th>\n",
       "      <td>...</td>\n",
       "      <td>...</td>\n",
       "      <td>...</td>\n",
       "      <td>...</td>\n",
       "      <td>...</td>\n",
       "      <td>...</td>\n",
       "      <td>...</td>\n",
       "      <td>...</td>\n",
       "      <td>...</td>\n",
       "      <td>...</td>\n",
       "      <td>...</td>\n",
       "    </tr>\n",
       "    <tr>\n",
       "      <th>...</th>\n",
       "      <td>...</td>\n",
       "      <td>...</td>\n",
       "      <td>...</td>\n",
       "      <td>...</td>\n",
       "      <td>...</td>\n",
       "      <td>...</td>\n",
       "      <td>...</td>\n",
       "      <td>...</td>\n",
       "      <td>...</td>\n",
       "      <td>...</td>\n",
       "      <td>...</td>\n",
       "    </tr>\n",
       "    <tr>\n",
       "      <th></th>\n",
       "      <td>...</td>\n",
       "      <td>...</td>\n",
       "      <td>...</td>\n",
       "      <td>...</td>\n",
       "      <td>...</td>\n",
       "      <td>...</td>\n",
       "      <td>...</td>\n",
       "      <td>...</td>\n",
       "      <td>...</td>\n",
       "      <td>...</td>\n",
       "      <td>...</td>\n",
       "    </tr>\n",
       "    <tr>\n",
       "      <th></th>\n",
       "      <td>...</td>\n",
       "      <td>...</td>\n",
       "      <td>...</td>\n",
       "      <td>...</td>\n",
       "      <td>...</td>\n",
       "      <td>...</td>\n",
       "      <td>...</td>\n",
       "      <td>...</td>\n",
       "      <td>...</td>\n",
       "      <td>...</td>\n",
       "      <td>...</td>\n",
       "    </tr>\n",
       "  </tbody>\n",
       "</table>\n",
       "</div>\n",
       "<div>Dask Name: drop_by_shallow_copy, 1154 tasks</div>"
      ],
      "text/plain": [
       "Dask DataFrame Structure:\n",
       "                          Canal_ID Ruta_SAK Cliente_ID Producto_ID Demanda_uni_equil Town_ID popular_name property pieces   weight    price\n",
       "npartitions=128                                                                                                                            \n",
       "                 category[unknown]    int64      int64       int64             int64   int16       object   object  int16  float32  float32\n",
       "                               ...      ...        ...         ...               ...     ...          ...      ...    ...      ...      ...\n",
       "...                            ...      ...        ...         ...               ...     ...          ...      ...    ...      ...      ...\n",
       "                               ...      ...        ...         ...               ...     ...          ...      ...    ...      ...      ...\n",
       "                               ...      ...        ...         ...               ...     ...          ...      ...    ...      ...      ...\n",
       "Dask Name: drop_by_shallow_copy, 1154 tasks"
      ]
     },
     "execution_count": 110,
     "metadata": {},
     "output_type": "execute_result"
    }
   ],
   "source": [
    "train_df"
   ]
  },
  {
   "cell_type": "code",
   "execution_count": 111,
   "id": "932945a1",
   "metadata": {},
   "outputs": [],
   "source": [
    "town_id_med_s = train_df.groupby('Town_ID')['Demanda_uni_equil'].apply(pd.Series.median, meta={'town_id_med': 'int16'}) #.astype('int16')\n",
    "town_id_med_s.name = 'town_id_med'"
   ]
  },
  {
   "cell_type": "markdown",
   "id": "7cf26dd4",
   "metadata": {},
   "source": [
    "#### Ruta_SAK"
   ]
  },
  {
   "cell_type": "code",
   "execution_count": 112,
   "id": "804556af",
   "metadata": {},
   "outputs": [],
   "source": [
    "ruta_id_med_s = train_df.groupby('Ruta_SAK')['Demanda_uni_equil'].apply(pd.Series.median, meta={'ruta_id_med': 'int16'}) #.astype('int16')\n",
    "ruta_id_med_s.name = 'ruta_id_med'"
   ]
  },
  {
   "cell_type": "markdown",
   "id": "84d3990c",
   "metadata": {},
   "source": [
    "### Merging"
   ]
  },
  {
   "cell_type": "code",
   "execution_count": 113,
   "id": "bcc7370a",
   "metadata": {},
   "outputs": [
    {
     "name": "stderr",
     "output_type": "stream",
     "text": [
      "C:\\Anaconda3\\envs\\Machine_Learning\\lib\\site-packages\\dask\\dataframe\\multi.py:456: UserWarning: Merging dataframes with merge column data type mismatches: \n",
      "+--------------------+------------+-------------+\n",
      "| Merge columns      | left dtype | right dtype |\n",
      "+--------------------+------------+-------------+\n",
      "| ('index', 'index') | float64    | int64       |\n",
      "+--------------------+------------+-------------+\n",
      "Cast dtypes explicitly to avoid unexpected results.\n",
      "  warnings.warn(\n"
     ]
    }
   ],
   "source": [
    "train_df = train_df.merge(client_med_s.reset_index(), how='left')\n",
    "train_df = train_df.merge(popular_name_med_s.reset_index(), how='left')\n",
    "train_df = train_df.merge(town_id_med_s.reset_index(), how='left')\n",
    "train_df = train_df.merge(ruta_id_med_s.reset_index(), how='left')"
   ]
  },
  {
   "cell_type": "code",
   "execution_count": 114,
   "id": "678d282e",
   "metadata": {},
   "outputs": [],
   "source": [
    "test_df = test_df.merge(client_med_s.reset_index(), how='left')\n",
    "test_df = test_df.merge(popular_name_med_s.reset_index(), how='left')\n",
    "test_df = test_df.merge(town_id_med_s.reset_index(), how='left')\n",
    "test_df = test_df.merge(ruta_id_med_s.reset_index(), how='left')"
   ]
  },
  {
   "cell_type": "code",
   "execution_count": 115,
   "id": "8057e885",
   "metadata": {},
   "outputs": [],
   "source": [
    "test_df['popular_name_med'] = test_df['popular_name_med'].fillna(test_df['popular_name_med'].mean())\n",
    "test_df['client_med'] = test_df['client_med'].fillna(test_df['client_med'].mean())\n",
    "test_df['ruta_id_med'] = test_df['ruta_id_med'].fillna(test_df['ruta_id_med'].mean())"
   ]
  },
  {
   "cell_type": "code",
   "execution_count": 116,
   "id": "88e36fa6",
   "metadata": {},
   "outputs": [],
   "source": [
    "# 下のtest_dfとセット\n",
    "train_df['client_med'] = train_df['client_med'].astype('int16')\n",
    "train_df['popular_name_med'] = train_df['popular_name_med'].astype('int16')\n",
    "train_df['town_id_med'] = train_df['town_id_med'].astype('int16')\n",
    "train_df['ruta_id_med'] = train_df['ruta_id_med'].astype('int16')"
   ]
  },
  {
   "cell_type": "code",
   "execution_count": 117,
   "id": "69475b20",
   "metadata": {},
   "outputs": [],
   "source": [
    "test_df['client_med'] = test_df['client_med'].astype('int16')\n",
    "test_df['popular_name_med'] = test_df['popular_name_med'].astype('int16')\n",
    "test_df['town_id_med'] = test_df['town_id_med'].astype('int16')\n",
    "test_df['ruta_id_med'] = test_df['ruta_id_med'].astype('int16')"
   ]
  },
  {
   "cell_type": "code",
   "execution_count": 118,
   "id": "4e0b7fd5",
   "metadata": {},
   "outputs": [],
   "source": [
    "test_df['popular_name_med'] = test_df['popular_name_med'].fillna(test_df['popular_name_med'].mean())\n",
    "test_df['client_med'] = test_df['client_med'].fillna(test_df['client_med'].mean())\n",
    "test_df['ruta_id_med'] = test_df['ruta_id_med'].fillna(test_df['ruta_id_med'].mean())"
   ]
  },
  {
   "cell_type": "code",
   "execution_count": 119,
   "id": "88aa5c2f",
   "metadata": {},
   "outputs": [],
   "source": [
    "train_df['client_med'] = train_df['client_med'].astype('int16')\n",
    "train_df['popular_name_med'] = train_df['popular_name_med'].astype('int16')\n",
    "train_df['town_id_med'] = train_df['town_id_med'].astype('int16')\n",
    "train_df['ruta_id_med'] = train_df['ruta_id_med'].astype('int16')"
   ]
  },
  {
   "cell_type": "code",
   "execution_count": 120,
   "id": "9cb1238a",
   "metadata": {},
   "outputs": [],
   "source": [
    "test_df['client_med'] = test_df['client_med'].astype('int16')\n",
    "test_df['popular_name_med'] = test_df['popular_name_med'].astype('int16')\n",
    "test_df['town_id_med'] = test_df['town_id_med'].astype('int16')\n",
    "test_df['ruta_id_med'] = test_df['ruta_id_med'].astype('int16')"
   ]
  },
  {
   "cell_type": "code",
   "execution_count": 121,
   "id": "7c9e9419",
   "metadata": {},
   "outputs": [
    {
     "data": {
      "text/plain": [
       "Dask Series Structure:\n",
       "npartitions=1\n",
       "Canal_ID    int64\n",
       "weight        ...\n",
       "dtype: int64\n",
       "Dask Name: dataframe-sum-agg, 18882 tasks"
      ]
     },
     "execution_count": 121,
     "metadata": {},
     "output_type": "execute_result"
    }
   ],
   "source": [
    "test_df.isnull().sum() # 代入する必要のない変数に不用意に代入した場合、Error"
   ]
  },
  {
   "cell_type": "code",
   "execution_count": 122,
   "id": "31221f3d",
   "metadata": {},
   "outputs": [],
   "source": [
    "#train_df.drop(\n",
    "#    ['Ruta_SAK', 'Cliente_ID', 'Producto_ID', 'Town_ID', 'popular_name', 'property', 'pieces'],\n",
    "#    axis=1, inplace=True)\n",
    "#test_df.drop(\n",
    "#    ['Ruta_SAK', 'Cliente_ID', 'Producto_ID', 'Town_ID', 'popular_name', 'property', 'pieces'],\n",
    "#    axis=1, inplace=True)"
   ]
  },
  {
   "cell_type": "code",
   "execution_count": 123,
   "id": "652ec16b",
   "metadata": {},
   "outputs": [],
   "source": [
    "train_df = train_df.drop(['Ruta_SAK', 'Cliente_ID', 'Producto_ID', 'Town_ID', 'popular_name', 'property', 'pieces'], axis=1)\n",
    "test_df = test_df.drop(['Ruta_SAK', 'Cliente_ID', 'Producto_ID', 'Town_ID', 'popular_name', 'property', 'pieces'], axis=1)"
   ]
  },
  {
   "cell_type": "code",
   "execution_count": 124,
   "id": "4bd65178",
   "metadata": {},
   "outputs": [
    {
     "data": {
      "text/html": [
       "<div><strong>Dask DataFrame Structure:</strong></div>\n",
       "<div>\n",
       "<style scoped>\n",
       "    .dataframe tbody tr th:only-of-type {\n",
       "        vertical-align: middle;\n",
       "    }\n",
       "\n",
       "    .dataframe tbody tr th {\n",
       "        vertical-align: top;\n",
       "    }\n",
       "\n",
       "    .dataframe thead th {\n",
       "        text-align: right;\n",
       "    }\n",
       "</style>\n",
       "<table border=\"1\" class=\"dataframe\">\n",
       "  <thead>\n",
       "    <tr style=\"text-align: right;\">\n",
       "      <th></th>\n",
       "      <th>Canal_ID</th>\n",
       "      <th>Demanda_uni_equil</th>\n",
       "      <th>weight</th>\n",
       "      <th>price</th>\n",
       "      <th>index</th>\n",
       "      <th>client_med</th>\n",
       "      <th>popular_name_med</th>\n",
       "      <th>town_id_med</th>\n",
       "      <th>ruta_id_med</th>\n",
       "    </tr>\n",
       "    <tr>\n",
       "      <th>npartitions=128</th>\n",
       "      <th></th>\n",
       "      <th></th>\n",
       "      <th></th>\n",
       "      <th></th>\n",
       "      <th></th>\n",
       "      <th></th>\n",
       "      <th></th>\n",
       "      <th></th>\n",
       "      <th></th>\n",
       "    </tr>\n",
       "  </thead>\n",
       "  <tbody>\n",
       "    <tr>\n",
       "      <th></th>\n",
       "      <td>category[unknown]</td>\n",
       "      <td>int64</td>\n",
       "      <td>float32</td>\n",
       "      <td>float32</td>\n",
       "      <td>float64</td>\n",
       "      <td>int16</td>\n",
       "      <td>int16</td>\n",
       "      <td>int16</td>\n",
       "      <td>int16</td>\n",
       "    </tr>\n",
       "    <tr>\n",
       "      <th></th>\n",
       "      <td>...</td>\n",
       "      <td>...</td>\n",
       "      <td>...</td>\n",
       "      <td>...</td>\n",
       "      <td>...</td>\n",
       "      <td>...</td>\n",
       "      <td>...</td>\n",
       "      <td>...</td>\n",
       "      <td>...</td>\n",
       "    </tr>\n",
       "    <tr>\n",
       "      <th>...</th>\n",
       "      <td>...</td>\n",
       "      <td>...</td>\n",
       "      <td>...</td>\n",
       "      <td>...</td>\n",
       "      <td>...</td>\n",
       "      <td>...</td>\n",
       "      <td>...</td>\n",
       "      <td>...</td>\n",
       "      <td>...</td>\n",
       "    </tr>\n",
       "    <tr>\n",
       "      <th></th>\n",
       "      <td>...</td>\n",
       "      <td>...</td>\n",
       "      <td>...</td>\n",
       "      <td>...</td>\n",
       "      <td>...</td>\n",
       "      <td>...</td>\n",
       "      <td>...</td>\n",
       "      <td>...</td>\n",
       "      <td>...</td>\n",
       "    </tr>\n",
       "    <tr>\n",
       "      <th></th>\n",
       "      <td>...</td>\n",
       "      <td>...</td>\n",
       "      <td>...</td>\n",
       "      <td>...</td>\n",
       "      <td>...</td>\n",
       "      <td>...</td>\n",
       "      <td>...</td>\n",
       "      <td>...</td>\n",
       "      <td>...</td>\n",
       "    </tr>\n",
       "  </tbody>\n",
       "</table>\n",
       "</div>\n",
       "<div>Dask Name: drop_by_shallow_copy, 15386 tasks</div>"
      ],
      "text/plain": [
       "Dask DataFrame Structure:\n",
       "                          Canal_ID Demanda_uni_equil   weight    price    index client_med popular_name_med town_id_med ruta_id_med\n",
       "npartitions=128                                                                                                                    \n",
       "                 category[unknown]             int64  float32  float32  float64      int16            int16       int16       int16\n",
       "                               ...               ...      ...      ...      ...        ...              ...         ...         ...\n",
       "...                            ...               ...      ...      ...      ...        ...              ...         ...         ...\n",
       "                               ...               ...      ...      ...      ...        ...              ...         ...         ...\n",
       "                               ...               ...      ...      ...      ...        ...              ...         ...         ...\n",
       "Dask Name: drop_by_shallow_copy, 15386 tasks"
      ]
     },
     "execution_count": 124,
     "metadata": {},
     "output_type": "execute_result"
    }
   ],
   "source": [
    "train_df"
   ]
  },
  {
   "cell_type": "code",
   "execution_count": 125,
   "id": "e523a16e",
   "metadata": {},
   "outputs": [
    {
     "data": {
      "text/html": [
       "<div><strong>Dask DataFrame Structure:</strong></div>\n",
       "<div>\n",
       "<style scoped>\n",
       "    .dataframe tbody tr th:only-of-type {\n",
       "        vertical-align: middle;\n",
       "    }\n",
       "\n",
       "    .dataframe tbody tr th {\n",
       "        vertical-align: top;\n",
       "    }\n",
       "\n",
       "    .dataframe thead th {\n",
       "        text-align: right;\n",
       "    }\n",
       "</style>\n",
       "<table border=\"1\" class=\"dataframe\">\n",
       "  <thead>\n",
       "    <tr style=\"text-align: right;\">\n",
       "      <th></th>\n",
       "      <th>id</th>\n",
       "      <th>Canal_ID</th>\n",
       "      <th>weight</th>\n",
       "      <th>price</th>\n",
       "      <th>index</th>\n",
       "      <th>client_med</th>\n",
       "      <th>popular_name_med</th>\n",
       "      <th>town_id_med</th>\n",
       "      <th>ruta_id_med</th>\n",
       "    </tr>\n",
       "    <tr>\n",
       "      <th>npartitions=128</th>\n",
       "      <th></th>\n",
       "      <th></th>\n",
       "      <th></th>\n",
       "      <th></th>\n",
       "      <th></th>\n",
       "      <th></th>\n",
       "      <th></th>\n",
       "      <th></th>\n",
       "      <th></th>\n",
       "    </tr>\n",
       "  </thead>\n",
       "  <tbody>\n",
       "    <tr>\n",
       "      <th></th>\n",
       "      <td>int64</td>\n",
       "      <td>category[unknown]</td>\n",
       "      <td>float32</td>\n",
       "      <td>float32</td>\n",
       "      <td>float64</td>\n",
       "      <td>int16</td>\n",
       "      <td>int16</td>\n",
       "      <td>int16</td>\n",
       "      <td>int16</td>\n",
       "    </tr>\n",
       "    <tr>\n",
       "      <th></th>\n",
       "      <td>...</td>\n",
       "      <td>...</td>\n",
       "      <td>...</td>\n",
       "      <td>...</td>\n",
       "      <td>...</td>\n",
       "      <td>...</td>\n",
       "      <td>...</td>\n",
       "      <td>...</td>\n",
       "      <td>...</td>\n",
       "    </tr>\n",
       "    <tr>\n",
       "      <th>...</th>\n",
       "      <td>...</td>\n",
       "      <td>...</td>\n",
       "      <td>...</td>\n",
       "      <td>...</td>\n",
       "      <td>...</td>\n",
       "      <td>...</td>\n",
       "      <td>...</td>\n",
       "      <td>...</td>\n",
       "      <td>...</td>\n",
       "    </tr>\n",
       "    <tr>\n",
       "      <th></th>\n",
       "      <td>...</td>\n",
       "      <td>...</td>\n",
       "      <td>...</td>\n",
       "      <td>...</td>\n",
       "      <td>...</td>\n",
       "      <td>...</td>\n",
       "      <td>...</td>\n",
       "      <td>...</td>\n",
       "      <td>...</td>\n",
       "    </tr>\n",
       "    <tr>\n",
       "      <th></th>\n",
       "      <td>...</td>\n",
       "      <td>...</td>\n",
       "      <td>...</td>\n",
       "      <td>...</td>\n",
       "      <td>...</td>\n",
       "      <td>...</td>\n",
       "      <td>...</td>\n",
       "      <td>...</td>\n",
       "      <td>...</td>\n",
       "    </tr>\n",
       "  </tbody>\n",
       "</table>\n",
       "</div>\n",
       "<div>Dask Name: drop_by_shallow_copy, 18753 tasks</div>"
      ],
      "text/plain": [
       "Dask DataFrame Structure:\n",
       "                    id           Canal_ID   weight    price    index client_med popular_name_med town_id_med ruta_id_med\n",
       "npartitions=128                                                                                                         \n",
       "                 int64  category[unknown]  float32  float32  float64      int16            int16       int16       int16\n",
       "                   ...                ...      ...      ...      ...        ...              ...         ...         ...\n",
       "...                ...                ...      ...      ...      ...        ...              ...         ...         ...\n",
       "                   ...                ...      ...      ...      ...        ...              ...         ...         ...\n",
       "                   ...                ...      ...      ...      ...        ...              ...         ...         ...\n",
       "Dask Name: drop_by_shallow_copy, 18753 tasks"
      ]
     },
     "execution_count": 125,
     "metadata": {},
     "output_type": "execute_result"
    }
   ],
   "source": [
    "test_df"
   ]
  },
  {
   "cell_type": "code",
   "execution_count": 126,
   "id": "1040b730",
   "metadata": {},
   "outputs": [
    {
     "name": "stdout",
     "output_type": "stream",
     "text": [
      "<class 'dask.dataframe.core.DataFrame'>\n",
      "Columns: 9 entries, Canal_ID to ruta_id_med\n",
      "dtypes: category(1), float32(2), float64(1), int16(4), int64(1)"
     ]
    }
   ],
   "source": [
    "train_df.info()"
   ]
  },
  {
   "cell_type": "code",
   "execution_count": 127,
   "id": "82475742",
   "metadata": {},
   "outputs": [
    {
     "name": "stdout",
     "output_type": "stream",
     "text": [
      "<class 'dask.dataframe.core.DataFrame'>\n",
      "Columns: 9 entries, id to ruta_id_med\n",
      "dtypes: category(1), float32(2), float64(1), int16(4), int64(1)"
     ]
    }
   ],
   "source": [
    "test_df.info()"
   ]
  },
  {
   "cell_type": "code",
   "execution_count": 128,
   "id": "1c37bcbe",
   "metadata": {},
   "outputs": [
    {
     "data": {
      "text/html": [
       "<div><strong>Dask DataFrame Structure:</strong></div>\n",
       "<div>\n",
       "<style scoped>\n",
       "    .dataframe tbody tr th:only-of-type {\n",
       "        vertical-align: middle;\n",
       "    }\n",
       "\n",
       "    .dataframe tbody tr th {\n",
       "        vertical-align: top;\n",
       "    }\n",
       "\n",
       "    .dataframe thead th {\n",
       "        text-align: right;\n",
       "    }\n",
       "</style>\n",
       "<table border=\"1\" class=\"dataframe\">\n",
       "  <thead>\n",
       "    <tr style=\"text-align: right;\">\n",
       "      <th></th>\n",
       "      <th>Demanda_uni_equil</th>\n",
       "      <th>weight</th>\n",
       "      <th>price</th>\n",
       "      <th>index</th>\n",
       "      <th>client_med</th>\n",
       "      <th>popular_name_med</th>\n",
       "      <th>town_id_med</th>\n",
       "      <th>ruta_id_med</th>\n",
       "    </tr>\n",
       "    <tr>\n",
       "      <th>npartitions=1</th>\n",
       "      <th></th>\n",
       "      <th></th>\n",
       "      <th></th>\n",
       "      <th></th>\n",
       "      <th></th>\n",
       "      <th></th>\n",
       "      <th></th>\n",
       "      <th></th>\n",
       "    </tr>\n",
       "  </thead>\n",
       "  <tbody>\n",
       "    <tr>\n",
       "      <th></th>\n",
       "      <td>float64</td>\n",
       "      <td>float64</td>\n",
       "      <td>float64</td>\n",
       "      <td>float64</td>\n",
       "      <td>float64</td>\n",
       "      <td>float64</td>\n",
       "      <td>float64</td>\n",
       "      <td>float64</td>\n",
       "    </tr>\n",
       "    <tr>\n",
       "      <th></th>\n",
       "      <td>...</td>\n",
       "      <td>...</td>\n",
       "      <td>...</td>\n",
       "      <td>...</td>\n",
       "      <td>...</td>\n",
       "      <td>...</td>\n",
       "      <td>...</td>\n",
       "      <td>...</td>\n",
       "    </tr>\n",
       "  </tbody>\n",
       "</table>\n",
       "</div>\n",
       "<div>Dask Name: describe-numeric, 19542 tasks</div>"
      ],
      "text/plain": [
       "Dask DataFrame Structure:\n",
       "              Demanda_uni_equil   weight    price    index client_med popular_name_med town_id_med ruta_id_med\n",
       "npartitions=1                                                                                                 \n",
       "                        float64  float64  float64  float64    float64          float64     float64     float64\n",
       "                            ...      ...      ...      ...        ...              ...         ...         ...\n",
       "Dask Name: describe-numeric, 19542 tasks"
      ]
     },
     "execution_count": 128,
     "metadata": {},
     "output_type": "execute_result"
    }
   ],
   "source": [
    "train_df.describe()"
   ]
  },
  {
   "cell_type": "code",
   "execution_count": 129,
   "id": "3e391664",
   "metadata": {},
   "outputs": [
    {
     "data": {
      "text/html": [
       "<div><strong>Dask DataFrame Structure:</strong></div>\n",
       "<div>\n",
       "<style scoped>\n",
       "    .dataframe tbody tr th:only-of-type {\n",
       "        vertical-align: middle;\n",
       "    }\n",
       "\n",
       "    .dataframe tbody tr th {\n",
       "        vertical-align: top;\n",
       "    }\n",
       "\n",
       "    .dataframe thead th {\n",
       "        text-align: right;\n",
       "    }\n",
       "</style>\n",
       "<table border=\"1\" class=\"dataframe\">\n",
       "  <thead>\n",
       "    <tr style=\"text-align: right;\">\n",
       "      <th></th>\n",
       "      <th>id</th>\n",
       "      <th>weight</th>\n",
       "      <th>price</th>\n",
       "      <th>index</th>\n",
       "      <th>client_med</th>\n",
       "      <th>popular_name_med</th>\n",
       "      <th>town_id_med</th>\n",
       "      <th>ruta_id_med</th>\n",
       "    </tr>\n",
       "    <tr>\n",
       "      <th>npartitions=1</th>\n",
       "      <th></th>\n",
       "      <th></th>\n",
       "      <th></th>\n",
       "      <th></th>\n",
       "      <th></th>\n",
       "      <th></th>\n",
       "      <th></th>\n",
       "      <th></th>\n",
       "    </tr>\n",
       "  </thead>\n",
       "  <tbody>\n",
       "    <tr>\n",
       "      <th></th>\n",
       "      <td>float64</td>\n",
       "      <td>float64</td>\n",
       "      <td>float64</td>\n",
       "      <td>float64</td>\n",
       "      <td>float64</td>\n",
       "      <td>float64</td>\n",
       "      <td>float64</td>\n",
       "      <td>float64</td>\n",
       "    </tr>\n",
       "    <tr>\n",
       "      <th></th>\n",
       "      <td>...</td>\n",
       "      <td>...</td>\n",
       "      <td>...</td>\n",
       "      <td>...</td>\n",
       "      <td>...</td>\n",
       "      <td>...</td>\n",
       "      <td>...</td>\n",
       "      <td>...</td>\n",
       "    </tr>\n",
       "  </tbody>\n",
       "</table>\n",
       "</div>\n",
       "<div>Dask Name: describe-numeric, 22909 tasks</div>"
      ],
      "text/plain": [
       "Dask DataFrame Structure:\n",
       "                    id   weight    price    index client_med popular_name_med town_id_med ruta_id_med\n",
       "npartitions=1                                                                                        \n",
       "               float64  float64  float64  float64    float64          float64     float64     float64\n",
       "                   ...      ...      ...      ...        ...              ...         ...         ...\n",
       "Dask Name: describe-numeric, 22909 tasks"
      ]
     },
     "execution_count": 129,
     "metadata": {},
     "output_type": "execute_result"
    }
   ],
   "source": [
    "test_df.describe()"
   ]
  },
  {
   "cell_type": "markdown",
   "id": "768e92db",
   "metadata": {},
   "source": [
    "---------\n",
    ">これより下に続く処理を実行する為に一度メモリの使用状況を確認しておく。必要であれば不要な変数を削除する。"
   ]
  },
  {
   "cell_type": "code",
   "execution_count": 130,
   "id": "ddb81611",
   "metadata": {},
   "outputs": [
    {
     "name": "stdout",
     "output_type": "stream",
     "text": [
      "|            Variable Name|    Memory|\n",
      " ------------------------------------ \n",
      "|         CategoricalDtype|      1064|\n",
      "|                  Counter|      1064|\n",
      "|                       In|      1264|\n",
      "|         LinearRegression|      1472|\n",
      "|                      Out|      2272|\n",
      "|                 boxcox1p|       232|\n",
      "|                client_df|  78952737|\n",
      "|             client_med_s|        48|\n",
      "|                     dask|        72|\n",
      "|                      ddf|        72|\n",
      "|                       df|    646777|\n",
      "|                    dtype|       640|\n",
      "|                     exit|        48|\n",
      "|                    expon|        48|\n",
      "|              get_ipython|        64|\n",
      "|                       lf|        48|\n",
      "|                       nl|       136|\n",
      "|                     norm|        48|\n",
      "|                       np|        72|\n",
      "|                       pd|        72|\n",
      "|                      plt|        72|\n",
      "|       popular_name_med_s|        48|\n",
      "|                prices_df|     28928|\n",
      "|               product_df|    550020|\n",
      "|         product_price_df|1780331280|\n",
      "|                     quit|        48|\n",
      "|                  randint|        48|\n",
      "|               reciprocal|        48|\n",
      "|         return_prices_df|  61067080|\n",
      "|            ruta_id_med_s|        48|\n",
      "|           sale_prices_df|1773069736|\n",
      "|           scatter_matrix|       136|\n",
      "|                     skew|       136|\n",
      "|                      sns|        72|\n",
      "|                    stats|        72|\n",
      "|                      sys|        72|\n",
      "|                 test_ddf|        48|\n",
      "|                  test_df|        48|\n",
      "|            town_id_med_s|        48|\n",
      "|            town_state_df|    123346|\n",
      "|                train_ddf|        48|\n",
      "|                 train_df|        48|\n",
      "|                 var_name|        57|\n",
      "|                        w|    282718|\n",
      "|                      xgb|        72|\n"
     ]
    }
   ],
   "source": [
    "print(\"{}{: >25}{}{: >10}{}\".format('|','Variable Name','|','Memory','|'))\n",
    "print(\" ------------------------------------ \")\n",
    "for var_name in dir():\n",
    "    if not var_name.startswith(\"_\"):\n",
    "        print(\"{}{: >25}{}{: >10}{}\".format('|',var_name,'|',sys.getsizeof(eval(var_name)),'|'))"
   ]
  },
  {
   "cell_type": "code",
   "execution_count": 131,
   "id": "571afaee",
   "metadata": {},
   "outputs": [],
   "source": [
    "del sale_prices_df\n",
    "del product_price_df\n",
    "del return_prices_df\n",
    "del client_df"
   ]
  },
  {
   "cell_type": "code",
   "execution_count": 132,
   "id": "aea19fa7",
   "metadata": {},
   "outputs": [
    {
     "name": "stdout",
     "output_type": "stream",
     "text": [
      "|            Variable Name|    Memory|\n",
      " ------------------------------------ \n",
      "|         CategoricalDtype|      1064|\n",
      "|                  Counter|      1064|\n",
      "|                       In|      1264|\n",
      "|         LinearRegression|      1472|\n",
      "|                      Out|      2272|\n",
      "|                 boxcox1p|       232|\n",
      "|             client_med_s|        48|\n",
      "|                     dask|        72|\n",
      "|                      ddf|        72|\n",
      "|                       df|    646777|\n",
      "|                    dtype|       640|\n",
      "|                     exit|        48|\n",
      "|                    expon|        48|\n",
      "|              get_ipython|        64|\n",
      "|                       lf|        48|\n",
      "|                       nl|       136|\n",
      "|                     norm|        48|\n",
      "|                       np|        72|\n",
      "|                       pd|        72|\n",
      "|                      plt|        72|\n",
      "|       popular_name_med_s|        48|\n",
      "|                prices_df|     28928|\n",
      "|               product_df|    550020|\n",
      "|                     quit|        48|\n",
      "|                  randint|        48|\n",
      "|               reciprocal|        48|\n",
      "|            ruta_id_med_s|        48|\n",
      "|           scatter_matrix|       136|\n",
      "|                     skew|       136|\n",
      "|                      sns|        72|\n",
      "|                    stats|        72|\n",
      "|                      sys|        72|\n",
      "|                 test_ddf|        48|\n",
      "|                  test_df|        48|\n",
      "|            town_id_med_s|        48|\n",
      "|            town_state_df|    123346|\n",
      "|                train_ddf|        48|\n",
      "|                 train_df|        48|\n",
      "|                 var_name|        57|\n",
      "|                        w|    282718|\n",
      "|                      xgb|        72|\n"
     ]
    }
   ],
   "source": [
    "print(\"{}{: >25}{}{: >10}{}\".format('|','Variable Name','|','Memory','|'))\n",
    "print(\" ------------------------------------ \")\n",
    "for var_name in dir():\n",
    "    if not var_name.startswith(\"_\"):\n",
    "        print(\"{}{: >25}{}{: >10}{}\".format('|',var_name,'|',sys.getsizeof(eval(var_name)),'|'))"
   ]
  },
  {
   "cell_type": "code",
   "execution_count": 137,
   "id": "036b534e",
   "metadata": {},
   "outputs": [
    {
     "ename": "ImportError",
     "evalue": "Missing optional dependency 'tables'.  Use pip or conda to install tables.",
     "output_type": "error",
     "traceback": [
      "\u001b[1;31m---------------------------------------------------------------------------\u001b[0m",
      "\u001b[1;31mImportError\u001b[0m                               Traceback (most recent call last)",
      "\u001b[1;32m~\\AppData\\Local\\Temp/ipykernel_26364/35762356.py\u001b[0m in \u001b[0;36m<module>\u001b[1;34m\u001b[0m\n\u001b[1;32m----> 1\u001b[1;33m \u001b[0mstore\u001b[0m \u001b[1;33m=\u001b[0m \u001b[0mpd\u001b[0m\u001b[1;33m.\u001b[0m\u001b[0mHDFStore\u001b[0m\u001b[1;33m(\u001b[0m\u001b[1;34m'test.h5'\u001b[0m\u001b[1;33m)\u001b[0m\u001b[1;33m\u001b[0m\u001b[1;33m\u001b[0m\u001b[0m\n\u001b[0m",
      "\u001b[1;32mC:\\Anaconda3\\envs\\Machine_Learning\\lib\\site-packages\\pandas\\io\\pytables.py\u001b[0m in \u001b[0;36m__init__\u001b[1;34m(self, path, mode, complevel, complib, fletcher32, **kwargs)\u001b[0m\n\u001b[0;32m    540\u001b[0m             \u001b[1;32mraise\u001b[0m \u001b[0mValueError\u001b[0m\u001b[1;33m(\u001b[0m\u001b[1;34m\"format is not a defined argument for HDFStore\"\u001b[0m\u001b[1;33m)\u001b[0m\u001b[1;33m\u001b[0m\u001b[1;33m\u001b[0m\u001b[0m\n\u001b[0;32m    541\u001b[0m \u001b[1;33m\u001b[0m\u001b[0m\n\u001b[1;32m--> 542\u001b[1;33m         \u001b[0mtables\u001b[0m \u001b[1;33m=\u001b[0m \u001b[0mimport_optional_dependency\u001b[0m\u001b[1;33m(\u001b[0m\u001b[1;34m\"tables\"\u001b[0m\u001b[1;33m)\u001b[0m\u001b[1;33m\u001b[0m\u001b[1;33m\u001b[0m\u001b[0m\n\u001b[0m\u001b[0;32m    543\u001b[0m \u001b[1;33m\u001b[0m\u001b[0m\n\u001b[0;32m    544\u001b[0m         \u001b[1;32mif\u001b[0m \u001b[0mcomplib\u001b[0m \u001b[1;32mis\u001b[0m \u001b[1;32mnot\u001b[0m \u001b[1;32mNone\u001b[0m \u001b[1;32mand\u001b[0m \u001b[0mcomplib\u001b[0m \u001b[1;32mnot\u001b[0m \u001b[1;32min\u001b[0m \u001b[0mtables\u001b[0m\u001b[1;33m.\u001b[0m\u001b[0mfilters\u001b[0m\u001b[1;33m.\u001b[0m\u001b[0mall_complibs\u001b[0m\u001b[1;33m:\u001b[0m\u001b[1;33m\u001b[0m\u001b[1;33m\u001b[0m\u001b[0m\n",
      "\u001b[1;32mC:\\Anaconda3\\envs\\Machine_Learning\\lib\\site-packages\\pandas\\compat\\_optional.py\u001b[0m in \u001b[0;36mimport_optional_dependency\u001b[1;34m(name, extra, raise_on_missing, on_version)\u001b[0m\n\u001b[0;32m    107\u001b[0m     \u001b[1;32mexcept\u001b[0m \u001b[0mImportError\u001b[0m\u001b[1;33m:\u001b[0m\u001b[1;33m\u001b[0m\u001b[1;33m\u001b[0m\u001b[0m\n\u001b[0;32m    108\u001b[0m         \u001b[1;32mif\u001b[0m \u001b[0mraise_on_missing\u001b[0m\u001b[1;33m:\u001b[0m\u001b[1;33m\u001b[0m\u001b[1;33m\u001b[0m\u001b[0m\n\u001b[1;32m--> 109\u001b[1;33m             \u001b[1;32mraise\u001b[0m \u001b[0mImportError\u001b[0m\u001b[1;33m(\u001b[0m\u001b[0mmsg\u001b[0m\u001b[1;33m)\u001b[0m \u001b[1;32mfrom\u001b[0m \u001b[1;32mNone\u001b[0m\u001b[1;33m\u001b[0m\u001b[1;33m\u001b[0m\u001b[0m\n\u001b[0m\u001b[0;32m    110\u001b[0m         \u001b[1;32melse\u001b[0m\u001b[1;33m:\u001b[0m\u001b[1;33m\u001b[0m\u001b[1;33m\u001b[0m\u001b[0m\n\u001b[0;32m    111\u001b[0m             \u001b[1;32mreturn\u001b[0m \u001b[1;32mNone\u001b[0m\u001b[1;33m\u001b[0m\u001b[1;33m\u001b[0m\u001b[0m\n",
      "\u001b[1;31mImportError\u001b[0m: Missing optional dependency 'tables'.  Use pip or conda to install tables."
     ]
    }
   ],
   "source": [
    "store = pd.HDFStore('test.h5')"
   ]
  },
  {
   "cell_type": "code",
   "execution_count": null,
   "id": "d3f0122c",
   "metadata": {},
   "outputs": [],
   "source": []
  }
 ],
 "metadata": {
  "kernelspec": {
   "display_name": "Machine_Learning",
   "language": "python",
   "name": "machine_learning"
  },
  "language_info": {
   "codemirror_mode": {
    "name": "ipython",
    "version": 3
   },
   "file_extension": ".py",
   "mimetype": "text/x-python",
   "name": "python",
   "nbconvert_exporter": "python",
   "pygments_lexer": "ipython3",
   "version": "3.8.8"
  }
 },
 "nbformat": 4,
 "nbformat_minor": 5
}
